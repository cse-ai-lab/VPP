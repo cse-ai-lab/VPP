{
 "cells": [
  {
   "cell_type": "code",
   "execution_count": 5,
   "id": "05de5d4d",
   "metadata": {},
   "outputs": [],
   "source": [
    "import os\n",
    "import json\n",
    "import time \n",
    "import numpy as npy\n",
    "import tqdm\n",
    "\n",
    "\n",
    "img_dir     = '/home/csgrad/sahmed9/reps/chartinfo-cqa/dataset/all_test_train_22/images'\n",
    "cjson_dir   = '/home/csgrad/sahmed9/reps/chartinfo-cqa/dataset/all_test_train_22/jsons'\n",
    "json_dir    = '/home/csgrad/sahmed9/reps/chartinfo-cqa/dataset/cqa_22_with_id/combined'\n",
    "filter_list = '/home/csgrad/sahmed9/reps/chartinfo-cqa/dataset/cqa_22_with_id/test_filenames.txt'\n",
    "tax_id_map = npy.load('/home/csgrad/sahmed9/reps/RealCQA/code/evaluation/t_id_map.npy', allow_pickle=True)"
   ]
  },
  {
   "cell_type": "code",
   "execution_count": 6,
   "id": "9dbe2d66",
   "metadata": {},
   "outputs": [
    {
     "data": {
      "text/plain": [
       "['s3.npy',\n",
       " 's5.npy',\n",
       " 'README.md',\n",
       " 'ctype_id_map.npy',\n",
       " 's4.npy',\n",
       " 'eval_PMC.py',\n",
       " 's2.npy',\n",
       " 't_id_map.npy',\n",
       " 'summ',\n",
       " 'combine.py']"
      ]
     },
     "execution_count": 6,
     "metadata": {},
     "output_type": "execute_result"
    }
   ],
   "source": [
    "os.listdir('/home/csgrad/sahmed9/reps/RealCQA/code/evaluation/')"
   ]
  },
  {
   "cell_type": "code",
   "execution_count": 7,
   "id": "d9767387",
   "metadata": {},
   "outputs": [
    {
     "name": "stdout",
     "output_type": "stream",
     "text": [
      "28266 PMC5503343___materials-10-00260-g009.json\n"
     ]
    }
   ],
   "source": [
    "json_files = os.listdir(json_dir)\n",
    "print(len(json_files), json_files[0])\n",
    "filter_test_id = None \n",
    "# filter_test_id = [text.strip() for text in open(filter_list, 'r').readlines()]"
   ]
  },
  {
   "cell_type": "code",
   "execution_count": 8,
   "id": "2311b06c",
   "metadata": {},
   "outputs": [
    {
     "name": "stdout",
     "output_type": "stream",
     "text": [
      "Taxonomy level :  2 36354\n",
      "Taxonomy level :  1 11952\n",
      "Taxonomy level :  3 9256\n",
      "Taxonomy level :  4 315200\n"
     ]
    }
   ],
   "source": [
    "def get_agg_tid(tid_obj) :\n",
    "    at_ = ['1', '2', '3', '4']\n",
    "    agg_t = {}\n",
    "    for t_ in tid_obj :\n",
    "        _ = t_[:1]\n",
    "        k = at_.index(_)    \n",
    "        if k+1 in agg_t :\n",
    "            agg_t[k+1]+= list(tid_obj[t_])\n",
    "        else :\n",
    "            agg_t[k+1]= list(tid_obj[t_])\n",
    "    return agg_t\n",
    "\n",
    "tidobj = tax_id_map.item()\n",
    "agg = get_agg_tid(tidobj)\n",
    "for i in agg : \n",
    "    print('Taxonomy level : ',i, len(agg[i]))"
   ]
  },
  {
   "cell_type": "code",
   "execution_count": 9,
   "id": "5c167a86",
   "metadata": {},
   "outputs": [
    {
     "name": "stdout",
     "output_type": "stream",
     "text": [
      "\n",
      " In create questions\n",
      "Total Images 28266\n"
     ]
    },
    {
     "name": "stderr",
     "output_type": "stream",
     "text": [
      "100%|██████████████████████████████████████████████████████████████████████████████████████████████████████████████████████████████████████████| 28266/28266 [03:08<00:00, 149.79it/s]"
     ]
    },
    {
     "name": "stdout",
     "output_type": "stream",
     "text": [
      "Elapsed time to create qs: 1712247842.1073565 seconds =28537464.03512261 minutes\n",
      "Total unused/used images: 0 / 28266\n",
      "{'taxonomy id': '2e', 'QID': '3', 'question': 'Where does the legend appear in the chart?', 'answer': 'Upper Left', 'answer_type': 'String', 'qa_id': 'iVmUQBBiryrH', 'PMC_ID': 'PMC5503343___materials-10-00260-g009'}\n"
     ]
    },
    {
     "name": "stderr",
     "output_type": "stream",
     "text": [
      "\n"
     ]
    }
   ],
   "source": [
    "print('\\n In create questions')\n",
    "print('Total Images', len(json_files))\n",
    "unused_count = 0\n",
    "questions = []\n",
    "start_time = time.time()\n",
    "for js in tqdm.tqdm(json_files) : \n",
    "    if filter_test_id is not None : \n",
    "        if js[:-5] not in filter_test_id:\n",
    "            unused_count+=1\n",
    "            continue\n",
    "    jsn_list = json.load(open(os.path.join(json_dir, js), 'r'))\n",
    "    questions.extend(jsn_list)  \n",
    "\n",
    "    start_time = time.time() - start_time\n",
    "print(f\"Elapsed time to create qs: {start_time} seconds ={start_time/60} minutes\")\n",
    "print('Total unused/used images:', unused_count, '/', len(json_files)-unused_count)\n",
    "\n",
    "for idx in range(len(questions)):\n",
    "    q_block  = questions[idx]\n",
    "    qa_id    = q_block['qa_id']\n",
    "    pmc_id   = q_block['PMC_ID']\n",
    "    answer   = q_block['answer']\n",
    "    question = q_block['question']\n",
    "    print(q_block)\n",
    "    break"
   ]
  },
  {
   "cell_type": "code",
   "execution_count": 10,
   "id": "4249bb6f",
   "metadata": {},
   "outputs": [],
   "source": [
    "def return_by_id(id_) :\n",
    "    agg = []\n",
    "    for q_block in questions:\n",
    "        if q_block['QID'] == id_ :\n",
    "            agg.append(q_block)\n",
    "    return agg"
   ]
  },
  {
   "cell_type": "code",
   "execution_count": 11,
   "id": "074f6a14",
   "metadata": {},
   "outputs": [
    {
     "name": "stdout",
     "output_type": "stream",
     "text": [
      "taxonomy id :: 4b\n",
      "QID :: 63\n",
      "question :: Is the difference between the value of 'Foliar spot growth (cm / 9 days)' at 55 and 491 greater than the difference between any two 'Light intensity (\\mu mol m^{-2} s^{-1})'?\n",
      "answer :: no\n",
      "answer_type :: Binary\n",
      "qa_id :: YheQWPyAYGmw\n",
      "PMC_ID :: PMC3031546___2\n",
      "\n",
      "\n",
      "taxonomy id :: 4b\n",
      "QID :: 63\n",
      "question :: Is the difference between the value of 'Foliar spot growth (cm / 9 days)' at 55 and 1058 greater than the difference between any two 'Light intensity (\\mu mol m^{-2} s^{-1})'?\n",
      "answer :: yes\n",
      "answer_type :: Binary\n",
      "qa_id :: YRwkjgYWiXMp\n",
      "PMC_ID :: PMC3031546___2\n",
      "\n",
      "\n",
      "taxonomy id :: 4b\n",
      "QID :: 63\n",
      "question :: Is the difference between the value of 'Foliar spot growth (cm / 9 days)' at 491 and 1058 greater than the difference between any two 'Light intensity (\\mu mol m^{-2} s^{-1})'?\n",
      "answer :: yes\n",
      "answer_type :: Binary\n",
      "qa_id :: sviknlIAYILa\n",
      "PMC_ID :: PMC3031546___2\n",
      "\n",
      "\n"
     ]
    }
   ],
   "source": [
    "c = 0\n",
    "for idx in range(len(questions)):\n",
    "    q_block  = questions[idx]\n",
    "    qa_id    = q_block['qa_id']\n",
    "    pmc_id   = q_block['PMC_ID']\n",
    "    answer   = q_block['answer']\n",
    "    question = q_block['question']\n",
    "    if q_block['QID'] == '63' :\n",
    "        for q in q_block : \n",
    "            print(q, '::', q_block[q])\n",
    "        print('\\n')\n",
    "        c+=1\n",
    "    \n",
    "    if c> 2 : \n",
    "        break"
   ]
  },
  {
   "cell_type": "code",
   "execution_count": 113,
   "id": "58466ffd",
   "metadata": {},
   "outputs": [],
   "source": [
    "tx_obj = {}\n",
    "for idx in range(len(questions)):\n",
    "    q_block  = questions[idx]\n",
    "    if q_block['taxonomy id'] in tx_obj :\n",
    "        tx_obj[q_block['taxonomy id']] +=1\n",
    "    else : \n",
    "        tx_obj[q_block['taxonomy id']]  = 0\n"
   ]
  },
  {
   "cell_type": "code",
   "execution_count": 114,
   "id": "65225a75",
   "metadata": {},
   "outputs": [
    {
     "data": {
      "text/plain": [
       "{'2e': 11792,\n",
       " '2g': 30228,\n",
       " '2b': 26427,\n",
       " '3a': 8545,\n",
       " '2j': 59009,\n",
       " '2c': 37309,\n",
       " '1a': 36752,\n",
       " '2a': 21645,\n",
       " '1b': 6484,\n",
       " '4b': 1722429,\n",
       " '2i': 10760,\n",
       " '3b': 51127,\n",
       " '2h': 2158}"
      ]
     },
     "execution_count": 114,
     "metadata": {},
     "output_type": "execute_result"
    }
   ],
   "source": [
    "tx_obj"
   ]
  },
  {
   "cell_type": "code",
   "execution_count": 122,
   "id": "d5b5ad78",
   "metadata": {},
   "outputs": [],
   "source": [
    "ans_type_obj = {}\n",
    "answer_type_ID = []\n",
    "for idx in range(len(questions)):\n",
    "    q_block  = questions[idx]\n",
    "    if q_block['answer_type'] in ans_type_obj :\n",
    "        ans_type_obj[q_block['answer_type']] +=1\n",
    "    else : \n",
    "        ans_type_obj[q_block['answer_type']]  = 0\n",
    "    if q_block['answer_type'] =='Binary':     \n",
    "        answer_type_ID.append(q_block['QID'])\n"
   ]
  },
  {
   "cell_type": "code",
   "execution_count": 123,
   "id": "c4fac585",
   "metadata": {},
   "outputs": [
    {
     "name": "stdout",
     "output_type": "stream",
     "text": [
      "{'String': 91529, 'Numerical': 686358, 'Ranked List': 95794, 'Binary': 869030, 'String/Unranked List': 37650, 'Unranked List': 244311} 869031\n"
     ]
    }
   ],
   "source": [
    "print(ans_type_obj,  len(answer_type_ID))"
   ]
  },
  {
   "cell_type": "code",
   "execution_count": 126,
   "id": "cfd73039",
   "metadata": {},
   "outputs": [
    {
     "name": "stdout",
     "output_type": "stream",
     "text": [
      "36\n",
      "{'89', '16', '29', '146', '72', '75', '169', '121', '59', '62', '91', '68', '124', '73a', '18a', '35', '63a', '27', '16a', '1', '122', '10', '170', '123', '116', '63', '73', '28a', '74', '18', '65a', '167', '168', '166', '65', '117'}\n"
     ]
    }
   ],
   "source": [
    "## BINARY ID \n",
    "print(len(set(answer_type_ID)))\n",
    "print(set(answer_type_ID))"
   ]
  },
  {
   "cell_type": "code",
   "execution_count": 50,
   "id": "81abef70",
   "metadata": {},
   "outputs": [],
   "source": [
    "from transformers import AutoTokenizer, AutoModelForSeq2SeqLM\n",
    "\n",
    "device = \"cuda\"\n",
    "\n",
    "tokenizer = AutoTokenizer.from_pretrained(\"humarin/chatgpt_paraphraser_on_T5_base\")\n",
    "\n",
    "model = AutoModelForSeq2SeqLM.from_pretrained(\"humarin/chatgpt_paraphraser_on_T5_base\").to(device)\n",
    "\n",
    "def paraphrase(\n",
    "    question,\n",
    "    num_beams=5,\n",
    "    num_beam_groups=5,\n",
    "    num_return_sequences=5,\n",
    "    repetition_penalty=10.0,\n",
    "    diversity_penalty=3.0,\n",
    "    no_repeat_ngram_size=2,\n",
    "    temperature=0.7,\n",
    "    max_length=128\n",
    "):\n",
    "    input_ids = tokenizer(\n",
    "        f'paraphrase: {question}',\n",
    "        return_tensors=\"pt\", padding=\"longest\",\n",
    "        max_length=max_length,\n",
    "        truncation=True,\n",
    "    ).input_ids\n",
    "    input_ids = input_ids.to(device)\n",
    "    outputs = model.generate(\n",
    "        input_ids, temperature=temperature, repetition_penalty=repetition_penalty,\n",
    "        num_return_sequences=num_return_sequences, no_repeat_ngram_size=no_repeat_ngram_size,\n",
    "        num_beams=num_beams, num_beam_groups=num_beam_groups,\n",
    "        max_length=max_length, diversity_penalty=diversity_penalty\n",
    "    )\n",
    "\n",
    "    res = tokenizer.batch_decode(outputs, skip_special_tokens=True)\n",
    "\n",
    "    return res\n"
   ]
  },
  {
   "cell_type": "markdown",
   "id": "dc76f971",
   "metadata": {},
   "source": [
    " To convert a question about a chart with binary answers to first-order logic (FOL), we need to298\n",
    " represent the relevant structural elements of the chart and the relationships between them. One299\n",
    " possible approach to this is as follows:300\n",
    " Define a set of variables to represent the structural elements of the chart. For example, we can define301\n",
    " variables302\n",
    " 1. x-axis title (Xtitle)\n",
    " 2. ith x-axis tick marks (Xi)\n",
    " 3. closed range of values of x-ticks [x0, xn]\n",
    " 4. y-axis title (Ytitle)\n",
    " 5. jth y-axis tick mark (Yj )\n",
    " 6. closed range of values of y-ticks [y0, ym]\n",
    " 7. legend labels (Legendlabel) \n",
    " 8. kth legend label (Lk)\n",
    " 9. closed range of values of legends ie data series names [l0, lh]\n",
    " 10. i+1/j+1 represents successive ith/jth value of respective variable\n",
    " \n",
    " median ???\n",
    " \n",
    " Define a set of predicates to represent the relationships between the chart elements. For example, we314\n",
    " can define predicates such as Let C be a chart. Then, C has the following predicates defined :\n",
    " \n",
    " 1. ∃({Xi0, ..., Xin}, Xtitle): for all X ticks of Xtitle in C, there exist given set of X tick316\n",
    " values, where Xi denotes the i-th X tick value.\n",
    " \n",
    " 2. ∃({Yj0, ..., Yjm}, Ytitle): for all Y ticks of Ytitle in C, there exist given set of Y tick values,318\n",
    " where Yj denotes the j-th Y tick value.\n",
    " \n",
    " 3. ∃({Lh0, ..., Lhk}, Legendlabel): for all labels in Legendlabel in C, there exist set of given320\n",
    " labels, where Lk denotes the k-th label.\n",
    " \n",
    " 4. V alue_At({(Xi0, Yj0), (...), (Xin, Yjm)}, Ytitle): the value of Ytitle at each data point (Xi0, Yj0), ..., (Xin, Yjm) exists in C.\n",
    " \n",
    " 5. V alue_At({(Xi0, Yj0, Lk0), (...), (Xin, Yjm, Lkh)}, Ytitle, Legendlabel): the value of Ytitle for the k-th given Legendlabel, Lkh at each data point in {(Xi0, Yj0, Lk0), (...)} exists in C .\n",
    " \n",
    " 6. M ax_V alue((Xi, Yj ), Ytitle): the data point represented by (Xi, Yj ) is the maximum value of Ytitle across all data points in C.\n",
    " \n",
    " 7. Max_V alue((Xi, Yj , Lk), Ytitle, Legendlabel): the data point represented by (Xi, Yj ) is the maximum value of Ytitle for the given Legendlabel across all data points in C.\n",
    " \n",
    " \n",
    " These conditions ensure that the chart C has valid and complete data, as well as allowing for331\n",
    " comparison of data across different data points and legends.\n",
    " Define the question in natural language and map it to FOL using the defined variables and predicates."
   ]
  },
  {
   "cell_type": "code",
   "execution_count": 8,
   "id": "04bc3c3b",
   "metadata": {},
   "outputs": [],
   "source": [
    "p0 = ['__i0__ is not equal to __i1__ and less than __i1__. Both __i1__ and __i0__ are in the range __minX__ to __maxX__']\n",
    "# paraphrase(p0)\n",
    "'''\n",
    "[\"There is a value for ['________0_F]: it is not equivalent to the given value, and neither is greater than the specified value.\",\n",
    " \"There is a value for ['________0_F]: it is not equivalent to the given value, and neither is greater than the specified value. The values for this are in the range of __minXY_ F and -_maxX_D respectively.\",\n",
    " \"The value of ['__i0________ is not equal to _,_, and less than._I1_Seq]; the values of both arithmetic (passive) and realty (extent) are in the range x(centre) from XminX_F and maxXY_O].\",\n",
    " \"Not equal to ________i0.bout ', not equivalent to [' and d] are also not equal with [and] (both @-) and @(total) are in range of /-100 and +-200 respectively.\",\n",
    " \"__i1--> '_________= (_)_/(_%_f....) +,? @_t_up.... N = 1 : p_@_ţ_+ P dxDXK DBP[/word]. A [TFATCHA FILE MAIL] is not an acceptable range for the length of time given by this function. This statement does not include any other values of formal grammar or punctuation marks.\"]\n",
    "'''\n",
    "p0i0 = ['__i0__ is not equal to __i1__. Both __i1__ and __i0__ are in the range __minX__ to __maxX__', \n",
    "      'There is a value for __i0__, it is not equivalent to __i1__. Both the values for this are in the range of __minX__ to __maxX__ respectively.',\n",
    "      '__i1__ is either greater or less than __i0__ and both  are in range of __minX__ to __maxX__.'\n",
    "     ]\n",
    "p0j0 = ['__j0__ is not equal to __j1__. Both __j1__ and __j0__ are in the range __minY__ to __maxY__', \n",
    "      'There is a value for __j0__, it is not equivalent to __j1__. Both the values for this are in the range of __minY__ to __maxY__ respectively.',\n",
    "      '__j1__ is either greater or less than __j0__ and they  are in range of __minY__ to __maxY__.'\n",
    "     ]\n",
    "\n",
    "p0i2 = ['__i2__ is not equal to __i3__. Both __i2__ and __i3__ are in the range __minX__ to __maxX__', \n",
    "      'There is a value for __i2__, it is not equivalent to __i3__. Both the values for this are in the range of __minX__ to __maxX__ respectively.',\n",
    "      '__i2__ is either greater or less than as __i3__ and both  are in range of __minX__ to __maxX__.'\n",
    "     ]\n",
    "p0j2 = ['__j2__ is not equal to __j3__. Both __j3__ and __j2__ are in the range __minY__ to __maxY__', \n",
    "      'There is a value for __j2__, it is not equivalent to __j3__, and neither is greater than the specified value. Both the values for this are in the range of __minY__ to __maxY__ respectively.',\n",
    "      '__j3__ is either greater or less than __j2__ and both  are in range of __minY__ to __maxY__.'\n",
    "     ]\n"
   ]
  },
  {
   "cell_type": "code",
   "execution_count": 9,
   "id": "4ff522f9",
   "metadata": {},
   "outputs": [],
   "source": [
    "# Premise Templates and Paraphrase\n",
    "p_xrange = \"For the independant axis titled __Xtitle__ thr range of tick values represented are __minX__ to __maxX__\"\n",
    "# paraphrase(p_xrange)\n",
    "'''\n",
    "['The range of tick values for the independant axis titled __Xtitle________ is from 0 to 100.',\n",
    " '__inDEPTH: The tick values for the independant axis titled _______title_F.',\n",
    " \"For the __Xtitle's independant axis, the range of tick values is 0 to a maximum of one.\",\n",
    " '__inDEPTH: The tick values for the independant axis titled _______title_F. Numerical?',\n",
    " 'The tick values for the __Xtitle________ and independant dimensions are from minX_0 to maxXY_180.']\n",
    " '''\n",
    "\n",
    "p_xrange = [\n",
    "    \"For the independant axis titled __Xtitle__ the range of tick values represented are __minX__ to __maxX__\",\n",
    "    \"The range of tick values for the independant axis titled __Xtitle__ is from __minX__ to __maxX__.\", \n",
    "    \"__minX__ to __maxX__: The valid tick values range for the independant axis titled __Xtitle__ in the given chart\", \n",
    "    '__Xi0__ and __Xi1 are valid values for ticks on x axis', \n",
    "    'Valid values for ticks on indepandant axis include __Xi0__ and __Xi1'\n",
    "]\n",
    "    "
   ]
  },
  {
   "cell_type": "code",
   "execution_count": 10,
   "id": "7df08e46",
   "metadata": {},
   "outputs": [],
   "source": [
    "p_yrange = \"For the dependant axis in the chart titled __Ytitle__ the range of tick values represented are __minY__ to __maxY__\"\n",
    "# paraphrase(p_yrange)\n",
    "'''\n",
    "['The dependant axis on the chart __Ytitle_ has tick values that span from 0 to 100.',\n",
    " 'In the chart named __Ytitle_, the range of tick values for the dependant axis in this chart is numbered from 0 to 100.',\n",
    " 'On this chart, the dependant axis on __Ytitle_ is represented by tick values from 0 to 100.',\n",
    " 'The dependant axis on the chart __Ytitle_ has tick values that span from 0 to 100. Click here to view the full range of possible options.',\n",
    " 'The chart titled \"Ytitle__Fallout\" displays tick values from ________min to \\'_-maxY_() for the dependant axis.']\n",
    "'''\n",
    "p_yrange = [\n",
    "    'For the dependant axis in the chart titled __Ytitle__ the range of tick values represented are __minY__ to __maxY__.',\n",
    "    'The range of tick values for the dependant axis having the title, __Ytitle__ in this chart is from __minY__ to __maxY__.',\n",
    "    'The dependant axis titled __Ytitle__ displays tick values from __minY__ to __maxY__ for this chart.'\n",
    "    'The dependant axis __Ytitle__ on the chart  has tick values that span from __minY__ to __maxY__.', \n",
    "    '__Yi0__ and __Yi1__ are valid values for ticks on y axis', \n",
    "    'Valid values for ticks on depandant axis include __Yi0__ and __Yi1__'\n",
    "]"
   ]
  },
  {
   "cell_type": "code",
   "execution_count": 11,
   "id": "14a588e5",
   "metadata": {},
   "outputs": [],
   "source": [
    "p_Val = 'Value in the chart plot area exists at (__Xi0__ , __Yi0__), (__Xi1__ , __Yi1__) for the axis called __Ytitle__'\n",
    "# paraphrase(p_Val)\n",
    "[\"The axis of __Ytitle________ has values at points (_Xi0_, '_yio0foo'), corresponding to the point in brackets (named by the number of stars on the graph and given by an operator). What is the value for the line with lines drawn along the top of the plot?\",\n",
    " \"The axis of __Ytitle________ has values at points (_Xi0_, '_yio0foo'), corresponding to the point in brackets (named by the number of stars on the graph and given by an operator).\",\n",
    " 'For the axis of __Ytitle________, there are values at (_Xi0_, \\'_yi0-_) and (corresponding to x in @subject line), but not for a particular number. The value is also shown as follows: \"At the time of this analysis, the plot will be known as babel.',\n",
    " 'For the axis of __Ytitle________, there are values at (_Xi0_, \\'_yi0-_) and (corresponding to x in @subject line), but not for a particular number. The value is also shown as follows: \"At the time of this analysis, the plot will be known as babel.jpg',\n",
    " \"For the axis of __Ytitle________, there are values at (_Xi0_, '_yi0-_) and (corresponding to x in @subject line), but not for a particular number.\"]\n",
    "\n",
    "p_Val = [\n",
    "    'Value in the chart plot area exists at (__Xi0__ , __Yi0__), (__Xi1__ , __Yi1__) for the axis called __Ytitle__', \n",
    "    'The axis of __Ytitle__ has values at points (__Xi0__ , __Yi0__), (__Xi1__ , __Yi1__)', \n",
    "    'For the axis of __Ytitle__, there are valid plot values corresponding to (__Xi0__ , __Yi0__), (__Xi1__ , __Yi1__)'\n",
    "]"
   ]
  },
  {
   "cell_type": "code",
   "execution_count": 12,
   "id": "62b872e6",
   "metadata": {},
   "outputs": [],
   "source": [
    "p63 = ' The difference in the values of the plot at (Xi0, Yi0),(Xi1, Yj1) is greater than the difference of values in the plot at  (Xi2, Yj2),  (Xi3, Yj3)'"
   ]
  },
  {
   "cell_type": "code",
   "execution_count": 13,
   "id": "4409acdd",
   "metadata": {},
   "outputs": [],
   "source": [
    "q63 = [p0, p0i0, p0j0, p0i2, p0j2, p_xrange, p_yrange, p_Val, p63]"
   ]
  },
  {
   "cell_type": "code",
   "execution_count": 15,
   "id": "c3e8e54c",
   "metadata": {},
   "outputs": [
    {
     "name": "stdout",
     "output_type": "stream",
     "text": [
      "\n",
      "\n",
      "__i0__ is not equal to __i1__ and less than __i1__. Both __i1__ and __i0__ are in the range __minX__ to __maxX__\n",
      "\n",
      "\n",
      "__i0__ is not equal to __i1__. Both __i1__ and __i0__ are in the range __minX__ to __maxX__\n",
      "There is a value for __i0__, it is not equivalent to __i1__. Both the values for this are in the range of __minX__ to __maxX__ respectively.\n",
      "__i1__ is either greater or less than __i0__ and both  are in range of __minX__ to __maxX__.\n",
      "\n",
      "\n",
      "__j0__ is not equal to __j1__. Both __j1__ and __j0__ are in the range __minY__ to __maxY__\n",
      "There is a value for __j0__, it is not equivalent to __j1__. Both the values for this are in the range of __minY__ to __maxY__ respectively.\n",
      "__j1__ is either greater or less than __j0__ and they  are in range of __minY__ to __maxY__.\n",
      "\n",
      "\n",
      "__i2__ is not equal to __i3__. Both __i2__ and __i3__ are in the range __minX__ to __maxX__\n",
      "There is a value for __i2__, it is not equivalent to __i3__. Both the values for this are in the range of __minX__ to __maxX__ respectively.\n",
      "__i2__ is either greater or less than as __i3__ and both  are in range of __minX__ to __maxX__.\n",
      "\n",
      "\n",
      "__j2__ is not equal to __j3__. Both __j3__ and __j2__ are in the range __minY__ to __maxY__\n",
      "There is a value for __j2__, it is not equivalent to __j3__, and neither is greater than the specified value. Both the values for this are in the range of __minY__ to __maxY__ respectively.\n",
      "__j3__ is either greater or less than __j2__ and both  are in range of __minY__ to __maxY__.\n",
      "\n",
      "\n",
      "For the independant axis titled __Xtitle__ the range of tick values represented are __minX__ to __maxX__\n",
      "The range of tick values for the independant axis titled __Xtitle__ is from __minX__ to __maxX__.\n",
      "__minX__ to __maxX__: The valid tick values range for the independant axis titled __Xtitle__ in the given chart\n",
      "__Xi0__ and __Xi1 are valid values for ticks on x axis\n",
      "Valid values for ticks on indepandant axis include __Xi0__ and __Xi1\n",
      "\n",
      "\n",
      "For the dependant axis in the chart titled __Ytitle__ the range of tick values represented are __minY__ to __maxY__.\n",
      "The range of tick values for the dependant axis having the title, __Ytitle__ in this chart is from __minY__ to __maxY__.\n",
      "The dependant axis titled __Ytitle__ displays tick values from __minY__ to __maxY__ for this chart.The dependant axis __Ytitle__ on the chart  has tick values that span from __minY__ to __maxY__.\n",
      "__Yi0__ and __Yi1__ are valid values for ticks on y axis\n",
      "Valid values for ticks on depandant axis include __Yi0__ and __Yi1__\n",
      "\n",
      "\n",
      "Value in the chart plot area exists at (__Xi0__ , __Yi0__), (__Xi1__ , __Yi1__) for the axis called __Ytitle__\n",
      "The axis of __Ytitle__ has values at points (__Xi0__ , __Yi0__), (__Xi1__ , __Yi1__)\n",
      "For the axis of __Ytitle__, there are valid plot values corresponding to (__Xi0__ , __Yi0__), (__Xi1__ , __Yi1__)\n",
      "\n",
      "\n",
      " \n",
      "T\n",
      "h\n",
      "e\n",
      " \n",
      "d\n",
      "i\n",
      "f\n",
      "f\n",
      "e\n",
      "r\n",
      "e\n",
      "n\n",
      "c\n",
      "e\n",
      " \n",
      "i\n",
      "n\n",
      " \n",
      "t\n",
      "h\n",
      "e\n",
      " \n",
      "v\n",
      "a\n",
      "l\n",
      "u\n",
      "e\n",
      "s\n",
      " \n",
      "o\n",
      "f\n",
      " \n",
      "t\n",
      "h\n",
      "e\n",
      " \n",
      "p\n",
      "l\n",
      "o\n",
      "t\n",
      " \n",
      "a\n",
      "t\n",
      " \n",
      "(\n",
      "X\n",
      "i\n",
      "0\n",
      ",\n",
      " \n",
      "Y\n",
      "i\n",
      "0\n",
      ")\n",
      ",\n",
      "(\n",
      "X\n",
      "i\n",
      "1\n",
      ",\n",
      " \n",
      "Y\n",
      "j\n",
      "1\n",
      ")\n",
      " \n",
      "i\n",
      "s\n",
      " \n",
      "g\n",
      "r\n",
      "e\n",
      "a\n",
      "t\n",
      "e\n",
      "r\n",
      " \n",
      "t\n",
      "h\n",
      "a\n",
      "n\n",
      " \n",
      "t\n",
      "h\n",
      "e\n",
      " \n",
      "d\n",
      "i\n",
      "f\n",
      "f\n",
      "e\n",
      "r\n",
      "e\n",
      "n\n",
      "c\n",
      "e\n",
      " \n",
      "o\n",
      "f\n",
      " \n",
      "v\n",
      "a\n",
      "l\n",
      "u\n",
      "e\n",
      "s\n",
      " \n",
      "i\n",
      "n\n",
      " \n",
      "t\n",
      "h\n",
      "e\n",
      " \n",
      "p\n",
      "l\n",
      "o\n",
      "t\n",
      " \n",
      "a\n",
      "t\n",
      " \n",
      " \n",
      "(\n",
      "X\n",
      "i\n",
      "2\n",
      ",\n",
      " \n",
      "Y\n",
      "j\n",
      "2\n",
      ")\n",
      ",\n",
      " \n",
      " \n",
      "(\n",
      "X\n",
      "i\n",
      "3\n",
      ",\n",
      " \n",
      "Y\n",
      "j\n",
      "3\n",
      ")\n"
     ]
    }
   ],
   "source": [
    "for p_ in q63 : \n",
    "    print('\\n')\n",
    "    for __ in p_ : \n",
    "        print(__)\n",
    "        "
   ]
  },
  {
   "cell_type": "code",
   "execution_count": 27,
   "id": "00aa853f",
   "metadata": {},
   "outputs": [
    {
     "name": "stdout",
     "output_type": "stream",
     "text": [
      "13236 {'taxonomy id': '4b', 'QID': '63', 'question': \"Is the difference between the value of 'Foliar spot growth (cm / 9 days)' at 55 and 491 greater than the difference between any two 'Light intensity (\\\\mu mol m^{-2} s^{-1})'?\", 'answer': 'no', 'answer_type': 'Binary', 'qa_id': 'YheQWPyAYGmw', 'PMC_ID': 'PMC3031546___2'}\n"
     ]
    }
   ],
   "source": [
    "q63q = return_by_id('63')\n",
    "print(len(q63q),q63q[0])\n"
   ]
  },
  {
   "cell_type": "markdown",
   "id": "630c4d7d",
   "metadata": {},
   "source": [
    "***"
   ]
  },
  {
   "cell_type": "markdown",
   "id": "05ee65e1",
   "metadata": {},
   "source": [
    "65 : Is the sum of the value of < Y title > for < ith x tick > and < (i + 1)th x tick > greater than the maximum value of < Y title > across all < pluralf orm of X title > ?\n",
    " \n",
    " ∃i, (i + 1) ∈ [x0, xn], j0, j1 ∈ [y0, ym] : (j0 ̸ = j1) ∧\n",
    " ∃({Xi, Xi+1}, Xtitle) ∧\n",
    " ∃({Yj0, Yj1}, Ytitle) ∧\n",
    " V alue_At((Xi, Yj0), (Xi+1, Yj1, Ytitle) ∧\n",
    " ∃i2 ∈ [x0, xn], j2 ∈ [y0, ym] ∧\n",
    " ∃({Xi2}, Xtitle) ∧\n",
    " ∃({Yj2}, Ytitle) ∧\n",
    " M ax_V alue((Xi2, Yj2), Ytitle) ∧\n",
    " (Xi, Yj0) + (Xi+1, Yj1 > (Xi2, Yj2) → True\n",
    " \n",
    " "
   ]
  },
  {
   "cell_type": "code",
   "execution_count": 34,
   "id": "4b447ea3",
   "metadata": {
    "collapsed": true
   },
   "outputs": [
    {
     "data": {
      "text/plain": [
       "['At the maximum limit of ________Ytitle_, there exists a value of (_Xi0.',\n",
       " \"__Ytitle_______ is the highest value that can be obtained at (_Xi0_-, '.\",\n",
       " 'Maximum __Ytitle________ is at (_Xi0_',\n",
       " 'Maximum __Ytitle________ is at (_Xi0_,.',\n",
       " \"The maximum limit of ________title_ is at (__Xi0_(), '_Yi0-').\"]"
      ]
     },
     "execution_count": 34,
     "metadata": {},
     "output_type": "execute_result"
    }
   ],
   "source": [
    "pMax = 'The value for __Ytitle__ is maximum at (__Xi0__ , __Yi0__)'\n",
    "paraphrase(pMax)\n",
    "pMax = [\n",
    "    'The value for __Ytitle__ is maximum at (__Xi0__ , __Yi0__)', \n",
    "    'The maximum value of __Ytitle__, exists at (__Xi0__ , __Yi0__)', \n",
    "    'Maximum __Ytitle__ is at (__Xi0__ , __Yi0__)'\n",
    "]\n",
    "        "
   ]
  },
  {
   "cell_type": "code",
   "execution_count": 31,
   "id": "e2462e7f",
   "metadata": {
    "collapsed": true
   },
   "outputs": [
    {
     "data": {
      "text/plain": [
       "\"\\ntaxonomy id :: 4b\\nQID :: 63\\nquestion :: Is the difference between the value of 'Foliar spot growth (cm / 9 days)' at 55 and 491 greater than the difference between any two 'Light intensity (\\\\mu mol m^{-2} s^{-1})'?\\nanswer :: no\\nanswer_type :: Binary\\nqa_id :: YheQWPyAYGmw\\nPMC_ID :: PMC3031546___2\\n\\n\\ntaxonomy id :: 4b\\nQID :: 63\\nquestion :: Is the difference between the value of 'Foliar spot growth (cm / 9 days)' at 55 and 1058 greater than the difference between any two 'Light intensity (\\\\mu mol m^{-2} s^{-1})'?\\nanswer :: yes\\nanswer_type :: Binary\\nqa_id :: YRwkjgYWiXMp\\nPMC_ID :: PMC3031546___2\\n\\n\\ntaxonomy id :: 4b\\nQID :: 63\\nquestion :: Is the difference between the value of 'Foliar spot growth (cm / 9 days)' at 491 and 1058 greater than the difference between any two 'Light intensity (\\\\mu mol m^{-2} s^{-1})'?\\nanswer :: yes\\nanswer_type :: Binary\\nqa_id :: sviknlIAYILa\\nPMC_ID :: PMC3031546___2\\n\\n63 : Is the difference between the value of < Y title > at < i0 x tick > and < i1 x tick > greater334\\n than the difference between any two < plural f orm of X − title >?335\\n ∃i0, i1 ∈ [x0, xn], j0, j1 ∈ [y0, ym] : (i0 ̸ = i1), (j0 ̸ = j1) ∧336\\n ∃({Xi0, Xi1}, Xtitle) ∧337\\n ∃({Yj0, Yj1}, Ytitle) ∧338\\n V alue_At((Xi0, Yj0), (Xi1, Yj1, Ytitle) ∧339\\n ∃i2, i3 ∈ [x0, xn], j2, j3 ∈ [y0, ym] : (i2 ̸ = i3), (j2 ̸ = j3) ∧340\\n ∃({Xi2, Xi3}, Xtitle) ∧341\\n ∃({Yj2, Yj3}, Ytitle) ∧342\\n V alue_At((Xi2, Yj2), (Xi3, Yj3), Ytitle) ∧343\\n |((Xi0, Yi0) − (Xi1, Yj1))| > |((Xi2, Yj2) − (Xi3, Yj3))| ⇒ T rue\\n \""
      ]
     },
     "execution_count": 31,
     "metadata": {},
     "output_type": "execute_result"
    }
   ],
   "source": [
    "'''\n",
    "taxonomy id :: 4b\n",
    "QID :: 63\n",
    "question :: Is the difference between the value of 'Foliar spot growth (cm / 9 days)' at 55 and 491 greater than the difference between any two 'Light intensity (\\mu mol m^{-2} s^{-1})'?\n",
    "answer :: no\n",
    "answer_type :: Binary\n",
    "qa_id :: YheQWPyAYGmw\n",
    "PMC_ID :: PMC3031546___2\n",
    "\n",
    "\n",
    "taxonomy id :: 4b\n",
    "QID :: 63\n",
    "question :: Is the difference between the value of 'Foliar spot growth (cm / 9 days)' at 55 and 1058 greater than the difference between any two 'Light intensity (\\mu mol m^{-2} s^{-1})'?\n",
    "answer :: yes\n",
    "answer_type :: Binary\n",
    "qa_id :: YRwkjgYWiXMp\n",
    "PMC_ID :: PMC3031546___2\n",
    "\n",
    "\n",
    "taxonomy id :: 4b\n",
    "QID :: 63\n",
    "question :: Is the difference between the value of 'Foliar spot growth (cm / 9 days)' at 491 and 1058 greater than the difference between any two 'Light intensity (\\mu mol m^{-2} s^{-1})'?\n",
    "answer :: yes\n",
    "answer_type :: Binary\n",
    "qa_id :: sviknlIAYILa\n",
    "PMC_ID :: PMC3031546___2\n",
    "\n",
    "63 : Is the difference between the value of < Y title > at < i0 x tick > and < i1 x tick > greater than the difference between any two < plural f orm of X − title >?\n",
    " ∃i0, i1 ∈ [x0, xn], j0, j1 ∈ [y0, ym] : (i0 ̸ = i1), (j0 ̸ = j1) ∧\n",
    " ∃({Xi0, Xi1}, Xtitle) ∧\n",
    " ∃({Yj0, Yj1}, Ytitle) ∧\n",
    " Value_At((Xi0, Yj0), (Xi1, Yj1, Ytitle) ∧\n",
    " ∃i2, i3 ∈ [x0, xn], j2, j3 ∈ [y0, ym] : (i2 ̸ = i3), (j2 ̸ = j3) ∧\n",
    " ∃({Xi2, Xi3}, Xtitle) ∧\n",
    " ∃({Yj2, Yj3}, Ytitle) ∧\n",
    " Value_At((Xi2, Yj2), (Xi3, Yj3), Ytitle) ∧\n",
    " |((Xi0, Yi0) − (Xi1, Yj1))| > |((Xi2, Yj2) − (Xi3, Yj3))| ⇒ True\n",
    " '''"
   ]
  },
  {
   "cell_type": "code",
   "execution_count": 37,
   "id": "f7bce092",
   "metadata": {
    "collapsed": true
   },
   "outputs": [
    {
     "data": {
      "text/plain": [
       "['If (A, B) and (C, D) are added together, the sum is greater than the value at (E, F).',\n",
       " 'What is the sum of (A, B) and (C, D)? (E, F)',\n",
       " 'What is the sum of (A, B) and (C, D)? (E, F) =',\n",
       " 'What is the sum of (A, B) and (C, D)? (E, F) =.',\n",
       " 'What is the sum of (A, B) and (C, D)? (E, F) =.2.']"
      ]
     },
     "execution_count": 37,
     "metadata": {},
     "output_type": "execute_result"
    }
   ],
   "source": [
    "p65 = 'The sum of the values at (A, B) and (C, D) is greater than the value at (E, F)'\n",
    "paraphrase(p65)\n",
    "# 'If (A, B) and (C, D) are added together, the sum is greater than the value at (E, F).',\n",
    "#  'What is the sum of (A, B) and (C, D)? (E, F)',\n",
    "#  'What is the sum of (A, B) and (C, D)? (E, F) =',\n",
    "#  'What is the sum of (A, B) and (C, D)? (E, F) =.',\n",
    "#  'What is the sum of (A, B) and (C, D)? (E, F) =.2.']\n",
    "p65 = ['The sum of the values at (A, B) and (C, D) is greater than the value at (E, F)', \n",
    "   'If the plot values at (A, B) and (C, D) are added together, the sum is greater than the value at (E, F).']"
   ]
  },
  {
   "cell_type": "code",
   "execution_count": 38,
   "id": "886f8208",
   "metadata": {
    "collapsed": true
   },
   "outputs": [
    {
     "data": {
      "text/plain": [
       "\"\\n\\ntaxonomy id :: 4b\\nQID :: 65\\nquestion :: Is the sum of the value of 'Relative sporulation %' in A^+Tra^- and A^-Tra^+ greater than the maximum value of 'Relative sporulation %' across all 'Strains'?\\nanswer :: no\\nanswer_type :: Binary\\nqa_id :: VYJzOLHesQXF\\nPMC_ID :: PMC3325183___pgen.1002626.g008\\n\\n\\ntaxonomy id :: 4b\\nQID :: 65\\nquestion :: Is the sum of the value of 'Relative sporulation %' in A^-Tra^+ and A^-Tra^- greater than the maximum value of 'Relative sporulation %' across all 'Strains'?\\nanswer :: no\\nanswer_type :: Binary\\nqa_id :: nCmleOYQWYbS\\nPMC_ID :: PMC3325183___pgen.1002626.g008\\n\\n\\ntaxonomy id :: 4b\\nQID :: 65\\nquestion :: Is the sum of the value of 'Relative sporulation %' in A^-Tra^- and A^-Tra^+/A^+Tra^+ greater than the maximum value of 'Relative sporulation %' across all 'Strains'?\\nanswer :: no\\nanswer_type :: Binary\\nqa_id :: myDfpVbjNEEB\\nPMC_ID :: PMC3325183___pgen.1002626.g008\\n\""
      ]
     },
     "execution_count": 38,
     "metadata": {},
     "output_type": "execute_result"
    }
   ],
   "source": [
    "'''\n",
    "\n",
    "taxonomy id :: 4b\n",
    "QID :: 65\n",
    "question :: Is the sum of the value of 'Relative sporulation %' in A^+Tra^- and A^-Tra^+ greater than the maximum value of 'Relative sporulation %' across all 'Strains'?\n",
    "answer :: no\n",
    "answer_type :: Binary\n",
    "qa_id :: VYJzOLHesQXF\n",
    "PMC_ID :: PMC3325183___pgen.1002626.g008\n",
    "\n",
    "\n",
    "taxonomy id :: 4b\n",
    "QID :: 65\n",
    "question :: Is the sum of the value of 'Relative sporulation %' in A^-Tra^+ and A^-Tra^- greater than the maximum value of 'Relative sporulation %' across all 'Strains'?\n",
    "answer :: no\n",
    "answer_type :: Binary\n",
    "qa_id :: nCmleOYQWYbS\n",
    "PMC_ID :: PMC3325183___pgen.1002626.g008\n",
    "\n",
    "\n",
    "taxonomy id :: 4b\n",
    "QID :: 65\n",
    "question :: Is the sum of the value of 'Relative sporulation %' in A^-Tra^- and A^-Tra^+/A^+Tra^+ greater than the maximum value of 'Relative sporulation %' across all 'Strains'?\n",
    "answer :: no\n",
    "answer_type :: Binary\n",
    "qa_id :: myDfpVbjNEEB\n",
    "PMC_ID :: PMC3325183___pgen.1002626.g008\n",
    "'''"
   ]
  },
  {
   "cell_type": "code",
   "execution_count": null,
   "id": "b66827bc",
   "metadata": {},
   "outputs": [],
   "source": [
    "q65 = [p0, p0i0, p0j0, p0i2, p0j2, p_xrange, p_yrange, p_Val, pMax, p65]"
   ]
  },
  {
   "cell_type": "code",
   "execution_count": null,
   "id": "c80aef37",
   "metadata": {},
   "outputs": [],
   "source": [
    "'''\n",
    "taxonomy id :: 4b\n",
    "QID :: 72\n",
    "question :: Is it the case that in every 'Distance to dam site(km)', the sum of the value of 'Mean value of multicriteria flood risk' for Existing-condition and Dam rehabilitation is greater than the value of  'Mean value of multicriteria flood risk' for Dam decommisioning?\n",
    "answer :: yes\n",
    "answer_type :: Binary\n",
    "qa_id :: PzqRwWWRGzie\n",
    "PMC_ID :: PMC3108115___ijerph-08-01368f9\n",
    "\n",
    "\n",
    "taxonomy id :: 4b\n",
    "QID :: 72\n",
    "question :: Is it the case that in every 'Hospitals evaluated', the sum of the value of '\\beta-Lactamases carriers (%)' for b/a_{vim1} and b/a_{ampC} is greater than the value of  '\\beta-Lactamases carriers (%)' for b/a_{oxa23}?\n",
    "answer :: yes\n",
    "answer_type :: Binary\n",
    "qa_id :: theoMjhESuSa\n",
    "PMC_ID :: PMC3945548___ijerph-11-01465-g002\n",
    "\n",
    "\n",
    "taxonomy id :: 4b\n",
    "QID :: 72\n",
    "question :: Is it the case that in every 'Hospitals evaluated', the sum of the value of '\\beta-Lactamases carriers (%)' for b/a_{vim1} and b/a_{ampC} is greater than the value of  '\\beta-Lactamases carriers (%)' for b/a_{oxa51}?\n",
    "answer :: yes\n",
    "answer_type :: Binary\n",
    "qa_id :: esLYUyaCcjga\n",
    "PMC_ID :: PMC3945548___ijerph-11-01465-g002\n",
    "\n",
    "\n",
    "taxonomy id :: 4b\n",
    "QID :: 72\n",
    "question :: Is it the case that in every 'Hospitals evaluated', the sum of the value of '\\beta-Lactamases carriers (%)' for b/a_{vim1} and b/a_{oxa23} is greater than the value of  '\\beta-Lactamases carriers (%)' for b/a_{oxa51}?\n",
    "answer :: yes\n",
    "answer_type :: Binary\n",
    "qa_id :: PkKhygLkNRHA\n",
    "PMC_ID :: PMC3945548___ijerph-11-01465-g002\n",
    "'''\n",
    "72 Is it the case that in every < singular form of Xtitle >, the sum of the value of < Y title > for < legendlabel1 > and < legendlabel2 > is greater than the value of < Y title > for <legendlabel3 > ?\n",
    " ∀i ∈ [x0, xn], j ∈ [y0, ym] :\n",
    " ∃({Xi}, Xtitle) ∧\n",
    " ∃({Yj }, Ytitle) ∧\n",
    " k0, k1, k2 ∈ [L0, Lh] ∧\n",
    " ∃({Lk0, Lk1, Lk2}, Legendlabel) ∧\n",
    " Legend_At(Ytitle, {(Yj, k0), (Yj, k1), (Yj, k2), }) ∧\n",
    "Value_At({(Xi, Yj)}, Ytitle, Lk0) ∧\n",
    "Value_At({(Xi, Yj)}, Ytitle, Lk1) ∧\n",
    "Value_At({(Xi, Yj)}, Ytitle, Lk2) ∧\n",
    "((Xi, Yj, k0) + (Xi, Yj, k1 ) > (Xi, Yj, k2 ))  ⇒ True \n",
    "    "
   ]
  },
  {
   "cell_type": "code",
   "execution_count": 54,
   "id": "76310c07",
   "metadata": {},
   "outputs": [
    {
     "data": {
      "text/plain": [
       "['Does the chart contain any data series with legend labels such as __label1________,  ______2_ and _____-3_? Please provide the appropriate answers. Thank you for your help',\n",
       " 'Does the chart contain any data series with legend labels such as __label1________,  ______2_ and _____-3_?',\n",
       " 'Does the chart contain any data series with legend labels such as __label1________,  ______2_ and _____-3_? Please provide the appropriate answers. Thank you for your help!',\n",
       " 'Does the chart contain any data series with legend labels such as __label1________,  ______2_ and _____-3_? Please provide the appropriate answers.',\n",
       " \"Are the legend labels __label1________, '_-land2_some', and 003_n= the ones that make up the data series on the chart?\"]"
      ]
     },
     "execution_count": 54,
     "metadata": {},
     "output_type": "execute_result"
    }
   ],
   "source": [
    "pLeg0 = \"The legend labels __label1__, __label2__, __label3__ exist in the given chart\"\n",
    "paraphrase(pLeg)\n",
    "pLeg0 = \n",
    "[\n",
    "    \"The legend labels __label1__, __label2__, __label3__ exist in the given chart\",\n",
    "    \"The chart contain data series with the legend labels __label1__, __label2__, __label3__\", \n",
    "    \"The legend labels __label1__, __label2__, __label3__ are present in this chart\"\n",
    "]"
   ]
  },
  {
   "cell_type": "code",
   "execution_count": 40,
   "id": "38ebfd03",
   "metadata": {},
   "outputs": [
    {
     "data": {
      "text/plain": [
       "['Does the chart contain any data series with legend labels such as __label1________,  ______2_ and _____-3_? Please provide the appropriate answers. Thank you for your help',\n",
       " 'Does the chart contain any data series with legend labels such as __label1________,  ______2_ and _____-3_?',\n",
       " 'Does the chart contain any data series with legend labels such as __label1________,  ______2_ and _____-3_? Please provide the appropriate answers. Thank you for your help!',\n",
       " 'Does the chart contain any data series with legend labels such as __label1________,  ______2_ and _____-3_? Please provide the appropriate answers.',\n",
       " \"Are the legend labels __label1________, '_-land2_some', and 003_n= the ones that make up the data series on the chart?\"]"
      ]
     },
     "execution_count": 40,
     "metadata": {},
     "output_type": "execute_result"
    }
   ],
   "source": [
    "pLeg = \"The respective data series with the legend labels __label1__, __label2__, __label3__ exist in the given chart\"\n",
    "paraphrase(pLeg)\n",
    "pLeg = [\"The respective data series with the legend labels __label1__, __label2__, __label3__ exist in the given chart\",\n",
    "'The chart contains data series with legend labels as __label1__, __label2__, __label3__?', \n",
    "        'The legend labels __label1__, __label2__, __label3__ the ones that make up the data series on the chart'\n",
    "       ]"
   ]
  },
  {
   "cell_type": "code",
   "execution_count": 55,
   "id": "965a85cd",
   "metadata": {},
   "outputs": [
    {
     "ename": "AttributeError",
     "evalue": "'str' object has no attribute 'copy'",
     "output_type": "error",
     "traceback": [
      "\u001b[0;31m---------------------------------------------------------------------------\u001b[0m",
      "\u001b[0;31mAttributeError\u001b[0m                            Traceback (most recent call last)",
      "\u001b[0;32m/tmp/ipykernel_1211841/3881145234.py\u001b[0m in \u001b[0;36m<module>\u001b[0;34m\u001b[0m\n\u001b[0;32m----> 1\u001b[0;31m \u001b[0mp72\u001b[0m \u001b[0;34m=\u001b[0m \u001b[0mp65\u001b[0m\u001b[0;34m.\u001b[0m\u001b[0mcopy\u001b[0m\u001b[0;34m(\u001b[0m\u001b[0;34m)\u001b[0m\u001b[0;34m\u001b[0m\u001b[0;34m\u001b[0m\u001b[0m\n\u001b[0m",
      "\u001b[0;31mAttributeError\u001b[0m: 'str' object has no attribute 'copy'"
     ]
    }
   ],
   "source": [
    "p72 = p65.copy()"
   ]
  },
  {
   "cell_type": "code",
   "execution_count": null,
   "id": "945b72ba",
   "metadata": {},
   "outputs": [],
   "source": [
    "q72 = [p0, p0i0, p0j0, p0i2, p0j2, p_xrange, p_yrange, pLeg0, pLeg, p_Val, p72]\n",
    " "
   ]
  },
  {
   "cell_type": "code",
   "execution_count": null,
   "id": "4e5291af",
   "metadata": {},
   "outputs": [],
   "source": [
    "62 Is the value of < Y title > for < legendlabel > at < ith x tick > less than that at <jth x tick > ? \n",
    "\n",
    "∀i, j ∈ [x0, xn], i, j ∈ [y0, ym], i ̸ = j :\n",
    "∃({Xi, Xj}, Xtitle) ∧\n",
    "∃({Yi, Yj }, Ytitle) ∧\n",
    "∀ k0 ∈ [L0, Lh] ∧\n",
    "∃({Lk}, Legendlabel) ∧\n",
    "Legend_At(Ytitle, {(Yi, Lk), (Yj , Lk) }) ∧\n",
    "Value_At({(Xi, Yi), (Xj , Yj )}, Ytitle, Legendlabel) ∧\n",
    "((Xi, Yi) - (Xj, Yj )) > 0 ⇒ True\n",
    "   "
   ]
  },
  {
   "cell_type": "code",
   "execution_count": 56,
   "id": "326fbd9a",
   "metadata": {},
   "outputs": [
    {
     "data": {
      "text/plain": [
       "['Is the value of  Y title > for -elementlabel > at (I ith x tick >) inferior to that at(jth X tick>>?',\n",
       " 'Does  Y title > for -legitile> at (ITHxT) tick less than / at [JXTL]?',\n",
       " 'Does the value of  Y title > for -elementlabel at h x tick be lower than that at high jth X tick >?',\n",
       " 'Does the value of  Y title > for -elementlabel at h x tick be lower than that at high jth X tick >? Or is it less.',\n",
       " 'Which is greater: the value of  Y title > for -elementlabel > at th x tick > or ftq = jth X tick?']"
      ]
     },
     "execution_count": 56,
     "metadata": {},
     "output_type": "execute_result"
    }
   ],
   "source": [
    "p62 = 'The value of < Y title > for < legendlabel > at < ith x tick > is less than that at <jth x tick >'\n",
    "paraphrase(p62)\n",
    "p62 = [\n",
    "   'The value of < Y title > for < legendlabel > at < ith x tick > is less than that at <jth x tick >', \n",
    "    'The difference of values of < Y title > for < legendlabel > at < ith x tick > and <jth x tick > is greater than zero', \n",
    "    'The difference of values of < Y title > for < legendlabel > at < jth x tick > and <ith x tick > is less than zero'\n",
    "]"
   ]
  },
  {
   "cell_type": "code",
   "execution_count": null,
   "id": "d90577fa",
   "metadata": {},
   "outputs": [],
   "source": [
    "q62 = [p0, p0i0, p0j0, p_xrange, p_yrange, pLeg0, pLeg, p_Val, p62]"
   ]
  },
  {
   "cell_type": "code",
   "execution_count": null,
   "id": "56e09693",
   "metadata": {},
   "outputs": [],
   "source": [
    " 59 Is the value of < Y title > at < ith x tick > less than that at < jth x tick > ?\n",
    " ∀i, j ∈ [x0, xn], i, j ∈ [y0, ym], i ̸ = j :\n",
    " ∃({Xi, Xj }, Xtitle) ∧\n",
    " ∃({Yi, Yj }, Ytitle) ∧\n",
    " Value_At(Ytitle, {(Xi, Yi), (Xj , Yj )}) ∧\n",
    " ((Xi, Yi) < (Xi , Yj)) ⇒ True"
   ]
  },
  {
   "cell_type": "code",
   "execution_count": null,
   "id": "a6945796",
   "metadata": {},
   "outputs": [],
   "source": [
    "p59 = [\n",
    "   'The value of < Y title > at < ith x tick > is less than that at <jth x tick >', \n",
    "    'The difference of values of < Y title > at < ith x tick > and <jth x tick > is greater than zero', \n",
    "    'The difference of values of < Y title > at < jth x tick > and <ith x tick > is less than zero'\n",
    "]"
   ]
  },
  {
   "cell_type": "code",
   "execution_count": null,
   "id": "64563d35",
   "metadata": {},
   "outputs": [],
   "source": [
    "q59 = [p0, p0i0, p0j0, p_xrange, p_yrange, p_Val, p59]"
   ]
  },
  {
   "cell_type": "code",
   "execution_count": 68,
   "id": "0bc35e4c",
   "metadata": {},
   "outputs": [
    {
     "ename": "SyntaxError",
     "evalue": "invalid syntax (1360866571.py, line 1)",
     "output_type": "error",
     "traceback": [
      "\u001b[0;36m  File \u001b[0;32m\"/tmp/ipykernel_1211841/1360866571.py\"\u001b[0;36m, line \u001b[0;32m1\u001b[0m\n\u001b[0;31m    68 Is the difference between the value of < Y title >for < legendlabel1 > at < ith x tick > and at < jth x tick >\u001b[0m\n\u001b[0m        ^\u001b[0m\n\u001b[0;31mSyntaxError\u001b[0m\u001b[0;31m:\u001b[0m invalid syntax\n"
     ]
    }
   ],
   "source": [
    " 68 Is the difference between the value of < Y title >for < legendlabel1 > at < ith x tick > and at < jth x tick > \n",
    "    greater than the difference between the value of < Y title >for < legendlabel2 > at < ith x tick > and at < jth x tick > ? \n",
    "    \n",
    "∀i,j ∈ [x0, xn], i,j ∈ [y0, ym], i ̸ =j: \n",
    "∃({Xi, Xj }, Xtitle) ∧\n",
    "∃({Yi, Yj}, Ytitle) ∧\n",
    "∀ k0, k1 ∈ [L0, Lh] ∧\n",
    "∃({Lk0, Lk1}, Legend) ∧\n",
    "Legend_At(Ytitle, {(Yi, Lk0),(Yj, Lk0), (Yi, Lk1),(Yj, Lk1), }\n",
    "Value_At({(Xi, Yj)}, Ytitle, Lk0) ∧\n",
    "Value_At({(Xi, Yj)}, Ytitle, Lk1) ∧\n",
    "((Xi, Yp) < (Xj , Yp)) ⇒ True\n",
    "          \n",
    "'''\n",
    "\n",
    "taxonomy id :: 4b\n",
    "QID :: 68\n",
    "question :: Is the difference between the value of 'Mean value of multicriteria flood risk' for Existing-condition at <1 and at 4~5 greater than the difference between the value of 'Mean value of multicriteria flood risk' for Dam rehabilitation at <1 and at 4~5?\n",
    "answer :: no\n",
    "answer_type :: Binary\n",
    "qa_id :: AsfwVDskwgWd\n",
    "PMC_ID :: PMC3108115___ijerph-08-01368f9\n",
    "\n",
    "\n",
    "taxonomy id :: 4b\n",
    "QID :: 68\n",
    "question :: Is the difference between the value of 'Mean value of multicriteria flood risk' for Existing-condition at 1~2 and at 2~3 greater than the difference between the value of 'Mean value of multicriteria flood risk' for Dam rehabilitation at 1~2 and at 2~3?\n",
    "answer :: yes\n",
    "answer_type :: Binary\n",
    "qa_id :: TBxRnOxNzkbn\n",
    "PMC_ID :: PMC3108115___ijerph-08-01368f9\n",
    "\n",
    "\n",
    "taxonomy id :: 4b\n",
    "QID :: 68\n",
    "question :: Is the difference between the value of 'Mean value of multicriteria flood risk' for Existing-condition at 1~2 and at 3~4 greater than the difference between the value of 'Mean value of multicriteria flood risk' for Dam rehabilitation at 1~2 and at 3~4?\n",
    "answer :: yes\n",
    "answer_type :: Binary\n",
    "qa_id :: WlEcpCNOrwdg\n",
    "PMC_ID :: PMC3108115___ijerph-08-01368f9\n",
    "'''          \n",
    "           "
   ]
  },
  {
   "cell_type": "code",
   "execution_count": 69,
   "id": "33aa6187",
   "metadata": {},
   "outputs": [
    {
     "data": {
      "text/plain": [
       "[' legendlabel1 > is less than the value of Y title > for -ithx tick > and -3 (jth) = 0.',\n",
       " \"When  ith x tick > and 'jth X tick>, the value of -Y title > for this value is less than that of --legendlabel1 >.\",\n",
       " ' legendlabel1 > is less than the value of Y title > for -ithx tick > and -3 (jth) = 0. Legendlatter2 > 1.',\n",
       " ' legendlabel1 > is less than the value of Y title > for -ithx tick > and -3 (jth) = 0. Legendlatter2 > 1. 3.0.',\n",
       " ' legendlabel1 > is less than the value of Y title > for -ithx tick > and -3 (jth) = 0. Legendlatter2 > 1. 3.']"
      ]
     },
     "execution_count": 69,
     "metadata": {},
     "output_type": "execute_result"
    }
   ],
   "source": [
    "p68 = 'The difference between value of < Y title > for < legendlabel1 > at < ith x tick > and <jth x tick > is less than that at < legendlabel2 >'\n",
    "paraphrase(p68)\n",
    "p68 = [\n",
    "    'The difference between value of < Y title > for < legendlabel1 > at < ith x tick > and <jth x tick > is less than that at < legendlabel2 >',\n",
    "'The difference between the  difference of < ith x tick > and <jth x tick > values of < Y title > for < legendlabel1 > and < legendlabel2 > is greater than zero'\n",
    "]"
   ]
  },
  {
   "cell_type": "code",
   "execution_count": null,
   "id": "1ed8688e",
   "metadata": {},
   "outputs": [],
   "source": [
    "q68 = [p0, p0i0, p0j0, p_xrange, p_yrange, pLeg0, pLeg, p_Val, p68]"
   ]
  },
  {
   "cell_type": "code",
   "execution_count": null,
   "id": "e348e394",
   "metadata": {},
   "outputs": [],
   "source": [
    "146 Does any < plural form of X − title > have equal inter-quartile range?\n",
    "\n",
    "∀i0, i1 ∈ [x0, xn], j0,j1 ∈ [y0, ym]: \n",
    "∃({Xi0, Xi1}, Xtitle) ∧\n",
    "∃({Yj0, Yj1}, Ytitle) ∧\n",
    "Value_At({(Xi0, Yj0),(Xi0, Yj1),(Xi1, Yj0),(Xi1, Yj1)}, Ytitle) ∧\n",
    "∃ S10=({Y0,Y2,…,Y ⌊m/2⌋},Xi0)\n",
    "∃ S11=({Y0,Y2,…,Y ⌊m/2⌋},Xi1)\n",
    "∃ S20=({Y⌈n/2⌉,Y⌈m/2⌉+1,…,Ym},Xi0)\n",
    "∃ S21=({Y⌈n/2⌉,Y⌈m/2⌉+1,…,Ym},Xi1)\n",
    "Median_At({(Xi0, Yj0, S10), (Xi1, Yj1, S11),(Xi0, Yj0, S20), (Xi1, Yj1, S21)}, Ytitle) \n",
    "|(Xi0, Yj0, S10) - (Xi0, Yj0, S20)| == |(Xi1, Yj1, S21) - (Xi1, Yj1, S11)| ⇒ True\n",
    " "
   ]
  },
  {
   "cell_type": "code",
   "execution_count": 82,
   "id": "700b252a",
   "metadata": {},
   "outputs": [],
   "source": [
    "pMedian = 'Given a set S with n elements, M is the middle value when the data is arranged in ascending order.'\n",
    "paraphrase(pMedian)\n",
    "pMedian = [\n",
    "    'Given a set __S__ with __n__ elements, __M__ is the middle value when the data is arranged in ascending order.', \n",
    "    'When the data is arranged in ascending order with an array of __S__ elements, __M__ is the middle value.', \n",
    "    'In a set __S__ with __n__ elements, the middle value is __M__ when data is arranged in ascending order.'\n",
    "]"
   ]
  },
  {
   "cell_type": "code",
   "execution_count": 76,
   "id": "f89a44c8",
   "metadata": {},
   "outputs": [],
   "source": [
    "pFQexist = 'The whisker at _x_, _y_ represents the lower quartile corresponding with the 25th percentile of the dataseries'\n",
    "paraphrase(pFQexist) \n",
    "pFQexist = [\n",
    "    'The whisker at _x_, _y_ represents the lower quartile corresponding with the 25th percentile of the dataseries', \n",
    "    'The lower quartile with the 25th percentile of the dataseries is denoted by the whisker at _x_, _y_.',\n",
    "    'A whisker at the level of _x_, _y_ indicates the lower quartile that is associated with the 25th percentile in the dataseries'\n",
    "]"
   ]
  },
  {
   "cell_type": "code",
   "execution_count": 78,
   "id": "f61b7917",
   "metadata": {},
   "outputs": [
    {
     "data": {
      "text/plain": [
       "['The chart below shows a box plot of variables for ________ytitle__, and the value at the first whisker of the lower quartile at corresponding values of x and m is set as -_val_.',\n",
       " \"The value of the lower quartile at __x________ at the first whisker in the box plot of a._ytitle_ chart is '_val_\",\n",
       " 'When examining the box plot of __ytitle\\'s, the value at the first whisker of each lower quarter at time x________ in the chart is a function of \"-val\" for the interval between points.',\n",
       " 'The chart below shows a box plot of variables for ________ytitle__, and the value at the first whisker of the lower quartile at corresponding values of x and m is set as -_val_.stampolite?',\n",
       " \"On the chart below for __ytitle's box plot, first whisker of lower quartile at _______x_ is a value of.\"]"
      ]
     },
     "execution_count": 78,
     "metadata": {},
     "output_type": "execute_result"
    }
   ],
   "source": [
    "pFQval = 'In the given chart for the box plot of __ytitle__ the value at the first whisker for the lower quartile at __x__ is __val__'\n",
    "paraphrase(pFQval)\n",
    "pFQval = [\n",
    "    'In the given chart for the box plot of __ytitle__ the value at the first whisker for the lower quartile at __x__ is __val__'\n",
    "]"
   ]
  },
  {
   "cell_type": "code",
   "execution_count": null,
   "id": "1f6be638",
   "metadata": {},
   "outputs": [],
   "source": [
    "pTQexist = 'The whisker at _x_, _y_ represents the upper quartile corresponding with the 75th percentile of the dataseries'\n",
    "paraphrase(pTQexist) \n",
    "pTQexist = [\n",
    "    'The whisker at _x_, _y_ represents the upper quartile corresponding with the 75th percentile of the dataseries', \n",
    "    'The upper quartile with the 75th percentile of the dataseries is denoted by the whisker at _x_, _y_.',\n",
    "    'A whisker at the level of _x_, _y_ indicates the third quartile that is associated with the 75th percentile in the dataseries'\n",
    "]"
   ]
  },
  {
   "cell_type": "code",
   "execution_count": null,
   "id": "53ba0603",
   "metadata": {},
   "outputs": [],
   "source": [
    "pTQval = ['In the given chart for the box plot of __ytitle__ the value at the second whisker for the upper quartile at __x__ is __val__'\n",
    "         ]"
   ]
  },
  {
   "cell_type": "code",
   "execution_count": null,
   "id": "749fbc34",
   "metadata": {},
   "outputs": [],
   "source": [
    "p146 = ['__X0__ and __X1__ have equal interquartile range']\n",
    "q146 = [p0, p0i0, p0j0, p_xrange, p_yrange, pFQexist, pTQexist, pFQval, pTQval, p146]"
   ]
  },
  {
   "cell_type": "code",
   "execution_count": 87,
   "id": "68f8b865",
   "metadata": {},
   "outputs": [],
   "source": [
    "# ## InterQuartile Range \n",
    "\n",
    "# ### Step 0: Find the Median\n",
    "# **Premise:** Given a dataset \\(X\\) with \\(n\\) elements, the median \\(M\\) is the middle value when the data is arranged in ascending order.\n",
    "# **Conclusion:** \\(M = \\frac{X_{\\lceil n/2 \\rceil} + X_{\\lfloor n/2 \\rfloor}}{2}\\) if \\(n\\) is even; \\(M = X_{\\lceil n/2 \\rceil}\\) if \\(n\\) is odd.\n",
    "\n",
    "# ### Step 1: Identify the First Set\n",
    "# **Premise:** For a dataset \\(X\\) with \\(n\\) elements, the first set \\(S_1\\) consists of the first \\(\\lfloor n/2 \\rfloor\\) elements of \\(X\\).\n",
    "# **Conclusion:** \\(S_1 = \\{X_1, X_2, \\ldots, X_{\\lfloor n/2 \\rfloor}\\}\\).\n",
    "\n",
    "# ### Step 2: Identify the Second Set\n",
    "# **Premise:** For a dataset \\(X\\) with \\(n\\) elements, the second set \\(S_2\\) consists of the last \\(\\lceil n/2 \\rceil\\) elements of \\(X\\).\n",
    "# **Conclusion:** \\(S_2 = \\{X_{\\lceil n/2 \\rceil}, X_{\\lceil n/2 \\rceil+1}, \\ldots, X_n\\}\\).\n",
    "\n",
    "# ### Step 3: Assign \\(Q_1\\) as the Lower Median\n",
    "# **Premise:** In a box plot, \\(Q_1\\) is the median of the first set \\(S_1\\).\n",
    "# **Conclusion:** \\(Q_1 = \\text{Median}(S_1)\\).\n",
    "\n",
    "# ### Step 4: Assign \\(Q_3\\) as the Upper Median\n",
    "# **Premise:** In a box plot, \\(Q_3\\) is the median of the second set \\(S_2\\).\n",
    "# **Conclusion:** \\(Q_3 = \\text{Median}(S_2)\\).\n",
    "\n",
    "# ### Step 5: Find the Difference\n",
    "# **Premise:** The interquartile range \\(IQR\\) is the difference between \\(Q_3\\) and \\(Q_1\\).\n",
    "# **Conclusion:** \\(IQR = Q_3 - Q_1\\).\n",
    "\n",
    "# ### Step 6: Check Equality (Optional)\n",
    "# **Premise:** Optionally, check if \\(Q_1\\) and \\(Q_3\\) are equal.\n",
    "# **Conclusion:** If \\(Q_1 = Q_3\\), the dataset is perfectly symmetrical.\n",
    "\n",
    "# ### Step 7: Final Conclusion\n",
    "# **Premise:** By combining the above steps, we have a systematic method for calculating the interquartile range of a dataset.\n",
    "# **Conclusion:** The interquartile range \\(IQR\\) is given by \\(IQR = Q_3 - Q_1\\).\n",
    "\n",
    "# ### Summary in LaTeX\n",
    "\n",
    "# Here's a concise summary in LaTeX:\n",
    "\n",
    "# ```latex\n",
    "# \\[\n",
    "# \\begin{align*}\n",
    "# & \\text{Step 0:} && M = \\frac{X_{\\lceil n/2 \\rceil} + X_{\\lfloor n/2 \\rfloor}}{2} \\text{ if } n \\text{ is even; } M = X_{\\lceil n/2 \\rceil} \\text{ if } n \\text{ is odd.} \\\\\n",
    "# & \\text{Step 1:} && S_1 = \\{X_1, X_2, \\ldots, X_{\\lfloor n/2 \\rfloor}\\} \\\\\n",
    "# & \\text{Step 2:} && S_2 = \\{X_{\\lceil n/2 \\rceil}, X_{\\lceil n/2 \\rceil+1}, \\ldots, X_n\\} \\\\\n",
    "# & \\text{Step 3:} && Q_1 = \\text{Median}(S_1) \\\\\n",
    "# & \\text{Step 4:} && Q_3 = \\text{Median}(S_2) \\\\\n",
    "# & \\text{Step 5:} && IQR = Q_3 - Q_1 \\\\\n",
    "# & \\text{Step 6:} && \\text{Check for symmetry: } Q_1 = Q_3 \\\\\n",
    "# & \\text{Step 7:} && \\text{Final Conclusion: } IQR = Q_3 - Q_1 \\\\\n",
    "# \\end{align*}\n",
    "# \\]\n",
    "# ```\n",
    "\n",
    "# This LaTeX code provides a structured and formalized representation of the steps involved in calculating the interquartile range."
   ]
  },
  {
   "cell_type": "markdown",
   "id": "5ba3b2ed",
   "metadata": {},
   "source": [
    "166 Is the value of median at < ith x tick > less than that at < jth x tick >?\n",
    "\n",
    "∀i,j ∈ [x0, xn], i, j ∈ [y0, ym]: \n",
    "∃({Xi, Xj}, Xtitle) ∧\n",
    "∃({Yi, Yj}, Ytitle) ∧\n",
    "Value_At({(Xi, Yi),(Xj, Yj)}, Ytitle) ∧\n",
    "∃ S1=({Y0,Y1,…,Ym }, Xi)\n",
    "∃ S2=({Y0,Y1,…,Ym}, Xij)\n",
    "Median_At({(Xi, Yi, S1), (Xj, Yj, S2)}, Ytitle) \n",
    "(Xj, Yj, S2) - (Xi, Yi, S1) > 0 ⇒ True\n",
    " "
   ]
  },
  {
   "cell_type": "code",
   "execution_count": 83,
   "id": "40eb5302",
   "metadata": {},
   "outputs": [
    {
     "data": {
      "text/plain": [
       "['Given a set __S__ with __n__ elements, __M__ is the middle value when the data is arranged in ascending order.',\n",
       " 'When the data is arranged in ascending order with an array of __S__ elements, __M__ is the middle value.',\n",
       " 'In a set __S__ with __n__ elements, the middle value is __M__ when data is arranged in ascending order.']"
      ]
     },
     "execution_count": 83,
     "metadata": {},
     "output_type": "execute_result"
    }
   ],
   "source": [
    "pMedian"
   ]
  },
  {
   "cell_type": "code",
   "execution_count": 94,
   "id": "ecd00d4c",
   "metadata": {},
   "outputs": [],
   "source": [
    "p166 = ['The median value at < ith x tick > is less than that at < jth x tick >',\n",
    "    'The difference of the median values of < Y title > at < ith x tick > and <jth x tick > is greater than zero', \n",
    "    'The difference of the median values of < Y title > at < jth x tick > and <ith x tick > is less than zero'\n",
    "]\n"
   ]
  },
  {
   "cell_type": "code",
   "execution_count": 85,
   "id": "75717065",
   "metadata": {},
   "outputs": [],
   "source": [
    "q166 = [p0, p0i0, p0j0, p_xrange, p_yrange, pMedian, p166]"
   ]
  },
  {
   "cell_type": "code",
   "execution_count": null,
   "id": "e8f4a9d3",
   "metadata": {},
   "outputs": [],
   "source": [
    "167 Is the value of upper quartile at < ith x tick > less than that at < jth x tick >?\n",
    "\n",
    "∀i,j ∈ [x0, xn], i, j ∈ [y0, ym]: \n",
    "∃({Xi, Xj}, Xtitle) ∧\n",
    "∃({Yi, Yj}, Ytitle) ∧\n",
    "Value_At({(Xi, Yi),(Xj, Yj)}, Ytitle) ∧\n",
    "∃ S1=({Y⌈n/2⌉,Y⌈m/2⌉+1,…,Ym}, Xi) ∧\n",
    "∃ S2=({Y⌈n/2⌉,Y⌈m/2⌉+1,…,Ym}, Xj) ∧\n",
    "Median_At({(Xi, Yi, S1), (Xj, Yj, S2)}, Ytitle) ∧\n",
    "(Xj, Yj, S2) - (Xi, Yi, S1) > 0 ⇒ True\n",
    " \n",
    "    "
   ]
  },
  {
   "cell_type": "code",
   "execution_count": null,
   "id": "0454dc12",
   "metadata": {},
   "outputs": [],
   "source": [
    "p167 = [\n",
    "    'The value of upper quartile at < ith x tick > is less than that at < jth x tick >', \n",
    "    'The difference of the upper quartile values of < Y title > at < ith x tick > and <jth x tick > is greater than zero', \n",
    "    'The difference of the upper quartile values of < Y title > at < jth x tick > and <ith x tick > is less than zero'\n",
    "]\n"
   ]
  },
  {
   "cell_type": "code",
   "execution_count": null,
   "id": "c27856f0",
   "metadata": {},
   "outputs": [],
   "source": [
    "q167 = [p0, p0i0, p0j0, p_xrange, p_yrange, pTQexist, pTQval, p167]"
   ]
  },
  {
   "cell_type": "code",
   "execution_count": null,
   "id": "edd8d906",
   "metadata": {},
   "outputs": [],
   "source": [
    "168 Is the value of lower quartile at < ith x tick > less than that at < jth x tick >?\n",
    "\n",
    "\n",
    "∀i,j ∈ [x0, xn], i, j ∈ [y0, ym]: \n",
    "∃({Xi, Xj}, Xtitle) ∧\n",
    "∃({Yi, Yj}, Ytitle) ∧\n",
    "Value_At({(Xi, Yi),(Xj, Yj)}, Ytitle) ∧\n",
    "∃ S1=({Y0,Y1,…,Y⌊m/2⌋}, Xi) ∧\n",
    "∃ S2=({Y0,Y1,…,Y⌊m/2⌋}, Xj) ∧\n",
    "Median_At({(Xi, Yi, S1), (Xj, Yj, S2)}, Ytitle) ∧\n",
    "(Xj, Yj, S2) - (Xi, Yi, S1) > 0 ⇒ True"
   ]
  },
  {
   "cell_type": "code",
   "execution_count": null,
   "id": "dcd1ca81",
   "metadata": {},
   "outputs": [],
   "source": [
    "p168 = [\n",
    "    'The value of lower quartile at < ith x tick > is less than that at < jth x tick >', \n",
    "    'The difference of the lower quartile values of < Y title > at < ith x tick > and <jth x tick > is greater than zero', \n",
    "    'The difference of the lower quartile values of < Y title > at < jth x tick > and <ith x tick > is less than zero'\n",
    "]\n",
    "\n",
    "q168 = [p0, p0i0, p0j0, p_xrange, p_yrange, pFQexist, pFQval, p168]"
   ]
  },
  {
   "cell_type": "code",
   "execution_count": null,
   "id": "e43fb82a",
   "metadata": {},
   "outputs": [],
   "source": [
    "169 Is the maximum value at < ith x tick > less than that at < jth x tick >?\n",
    "\n",
    "∀i,j ∈ [x0, xn], i, j ∈ [y0, ym]: \n",
    "∃({Xi, Xj}, Xtitle) ∧\n",
    "∃({Yi, Yj}, Ytitle) ∧\n",
    "Value_At({(Xi, Yi),(Xj, Yj)}, Ytitle) ∧\n",
    "Max_Value((Xi, Yi), Ytitle) ∧\n",
    "Max_Value((Xj, Yj), Ytitle) ∧\n",
    "(Xj, Yj) - (Xi, Yi) > 0 ⇒ True"
   ]
  },
  {
   "cell_type": "code",
   "execution_count": 101,
   "id": "5bd99939",
   "metadata": {},
   "outputs": [],
   "source": [
    "pMaxBox = 'The maximum value for __Ytitle__ at __Xi0__ is __val__'\n",
    "paraphrase(pMaxBox)\n",
    "pMaxBox = [\n",
    "    'The maximum value for __Ytitle__ at __Xi0__ is __val__', \n",
    "    'The highest possible value for __Ytitle__ at __Xi0__ is __val__', \n",
    "    'At __Xi0__ the maximum value for __Ytitle__ is __val__'\n",
    "]        "
   ]
  },
  {
   "cell_type": "code",
   "execution_count": 102,
   "id": "122dbbda",
   "metadata": {},
   "outputs": [],
   "source": [
    "p169 = [\n",
    "   'The maximum value of < Y title > at < ith x tick > is less than that at <jth x tick >', \n",
    "    'The difference of the maximum values of < Y title > at < ith x tick > and <jth x tick > is greater than zero', \n",
    "    'The difference of the maximum values of < Y title > at < jth x tick > and <ith x tick > is less than zero'\n",
    "]"
   ]
  },
  {
   "cell_type": "code",
   "execution_count": 104,
   "id": "f6cb42ed",
   "metadata": {},
   "outputs": [],
   "source": [
    "q169 = [p0, p0i0, p0j0, p_xrange, p_yrange, p_Val, pMaxBox, pMaxBox, p169]"
   ]
  },
  {
   "cell_type": "code",
   "execution_count": null,
   "id": "d645fa6c",
   "metadata": {},
   "outputs": [],
   "source": [
    "170 Is the minimum value at < ith x tick > less than that at < jth x tick >?\n",
    "∀i,j ∈ [x0, xn], i, j ∈ [y0, ym]: \n",
    "∃({Xi, Xj}, Xtitle) ∧\n",
    "∃({Yi, Yj}, Ytitle) ∧\n",
    "Value_At({(Xi, Yi),(Xj, Yj)}, Ytitle) ∧\n",
    "Min_Value((Xi, Yi), Ytitle) ∧\n",
    "Min_Value((Xj, Yj), Ytitle) ∧\n",
    "(Xj, Yj) - (Xi, Yi) > 0 ⇒ True"
   ]
  },
  {
   "cell_type": "code",
   "execution_count": 97,
   "id": "3cec2973",
   "metadata": {},
   "outputs": [],
   "source": [
    "pMinBox = 'The Minimum value for __Ytitle__ at __Xi0__ is __val__'\n",
    "paraphrase(pMinBox)\n",
    "pMinBox = [\n",
    "    'The Minimum value for __Ytitle__ at __Xi0__ is __val__', \n",
    "    'The lowest possible value for __Ytitle__ at __Xi0__ is __val__', \n",
    "    'At __Xi0__ the Minimum value for __Ytitle__ is __val__'\n",
    "]        \n",
    "        "
   ]
  },
  {
   "cell_type": "code",
   "execution_count": 99,
   "id": "b66ce2fd",
   "metadata": {},
   "outputs": [],
   "source": [
    "p170 = [\n",
    "   'The Minimum value of < Y title > at < ith x tick > is less than that at <jth x tick >', \n",
    "    'The difference of the Minimum values of < Y title > at < ith x tick > and <jth x tick > is greater than zero', \n",
    "    'The difference of the Minimum values of < Y title > at < jth x tick > and <ith x tick > is less than zero'\n",
    "]"
   ]
  },
  {
   "cell_type": "code",
   "execution_count": 105,
   "id": "28038175",
   "metadata": {},
   "outputs": [],
   "source": [
    "q170 = [p0, p0i0, p0j0, p_xrange, p_yrange, p_Val, pMinBox, pMinBox, p170]"
   ]
  },
  {
   "cell_type": "code",
   "execution_count": 129,
   "id": "a210ac41",
   "metadata": {},
   "outputs": [
    {
     "ename": "SyntaxError",
     "evalue": "invalid character in identifier (3502074772.py, line 3)",
     "output_type": "error",
     "traceback": [
      "\u001b[0;36m  File \u001b[0;32m\"/tmp/ipykernel_1211841/3502074772.py\"\u001b[0;36m, line \u001b[0;32m3\u001b[0m\n\u001b[0;31m    ∃({0, ... Lk}, Legendlabel) ∧\u001b[0m\n\u001b[0m    ^\u001b[0m\n\u001b[0;31mSyntaxError\u001b[0m\u001b[0;31m:\u001b[0m invalid character in identifier\n"
     ]
    }
   ],
   "source": [
    "18 Is the number of lines equal to the number of legend labels?\n",
    "\n",
    "∃({0, ... Lk}, Legendlabel) ∧\n",
    "∃({0, ... Mj}, Lines) ∧\n",
    "Mj == Lk ⇒ True/False"
   ]
  },
  {
   "cell_type": "code",
   "execution_count": 136,
   "id": "67be5da8",
   "metadata": {},
   "outputs": [],
   "source": [
    "pLineCount = 'There exists __M__ lines in the given chart '\n",
    "paraphrase(pLineCount)\n",
    "pLineCount = [\n",
    "    'There exists __M__ lines in the given chart ', \n",
    "    'In the chart, there are __M__ lines',\n",
    "    '__M__ lines are being displayed in the chart.'\n",
    "]"
   ]
  },
  {
   "cell_type": "code",
   "execution_count": 135,
   "id": "65bccd55",
   "metadata": {},
   "outputs": [],
   "source": [
    "pLegCount = [\n",
    "    'There exists __M__ legends in the given chart ', \n",
    "    'In the chart, there are __M__ legends',\n",
    "    '__M__ legends are being displayed in the chart.'\n",
    "]"
   ]
  },
  {
   "cell_type": "code",
   "execution_count": 138,
   "id": "bd4c284c",
   "metadata": {},
   "outputs": [],
   "source": [
    "p18T = ['Number of lines equals number of legends']\n",
    "p18F = ['Number of lines do not equal number of legends']\n",
    "q18 = [pLegCount, pLineCount, (p18T,p18F)]"
   ]
  },
  {
   "cell_type": "code",
   "execution_count": null,
   "id": "fc926453",
   "metadata": {},
   "outputs": [],
   "source": [
    "18a Is the number of lines equal to the number of mark labels?\n",
    "∃({0, ... Lk}, Marklabel) ∧\n",
    "∃({0, ... Mj}, Lines) ∧\n",
    "Mj == Lk ⇒ True/False"
   ]
  },
  {
   "cell_type": "code",
   "execution_count": null,
   "id": "782ef64f",
   "metadata": {},
   "outputs": [],
   "source": [
    "pMarkCount = [\n",
    "    'There exists __M__ mark labels in the given chart ', \n",
    "    'In the chart, there are __M__ mark labels',\n",
    "    '__M__ mark labels are being displayed in the chart.'\n",
    "]"
   ]
  },
  {
   "cell_type": "code",
   "execution_count": null,
   "id": "a84b92ba",
   "metadata": {},
   "outputs": [],
   "source": [
    "p18aT = ['Number of lines equals number of mark labels']\n",
    "p18aF = ['Number of lines do not equal number of mark labels']\n",
    "q18a = [pMarkCount, pLineCount, (p18aT,p18aF)]"
   ]
  },
  {
   "cell_type": "code",
   "execution_count": null,
   "id": "f2ab4060",
   "metadata": {},
   "outputs": [],
   "source": [
    "35 Does the < Y title >monotonically increase over the <plural form of X title> ?\n",
    "∀i ∈ [x0, xn], i ∈ [y0, ym]: \n",
    "∃({Xi}, Xtitle) ∧\n",
    "∃({Yi}, Ytitle) ∧\n",
    "Value_At({(Xi, Yi),(Xi+1, Yi+1)}, Ytitle) ∧\n",
    "(Xi, Yi) < (Xi+1, Yi+1) ⇒ True"
   ]
  },
  {
   "cell_type": "code",
   "execution_count": 141,
   "id": "ffb5bd69",
   "metadata": {},
   "outputs": [],
   "source": [
    "p35 = 'The y-axis values monotonically increase over the x-axis values.'\n",
    "paraphrase(p35)\n",
    "\n",
    "p35 = ['The y-axis values monotonically increase over the x-axis values.',\n",
    "'The values along the y-axis and across the entire width of the plane are inherently each greater than the previous']"
   ]
  },
  {
   "cell_type": "code",
   "execution_count": null,
   "id": "bfac87cd",
   "metadata": {},
   "outputs": [],
   "source": [
    "q35 = [p0, p_xrange, p_yrange, p val, p35]"
   ]
  },
  {
   "cell_type": "code",
   "execution_count": null,
   "id": "c7d67915",
   "metadata": {},
   "outputs": [],
   "source": [
    "116 Is the < legendlabel > monotonically increasing?\n",
    "∀i ∈ [x0, xn], i ∈ [y0, ym]: \n",
    "∃({Xi}, Xtitle) ∧\n",
    "∃({Yi}, Ytitle) ∧\n",
    "∀ k0 ∈ [L0, Lh] ∧\n",
    "∃({Lk0}, Legend) ∧\n",
    "Legend_At(Ytitle, {(Yi, Lk0), (Yi+1, Lk0)}\n",
    "Value_At({(Xi, Yi), (Xi+1, Yi+1)}, Ytitle, Lk0) ∧\n",
    "(Xi, Yi) < (Xi+1, Yi+1) ⇒ True"
   ]
  },
  {
   "cell_type": "code",
   "execution_count": null,
   "id": "e36f537d",
   "metadata": {},
   "outputs": [],
   "source": [
    "p116 = ['The y-axis values for the legend __L__  monotonically increase over the x-axis values.',\n",
    "'The values along the y-axis and across the entire width of the plane for the legend __L__ are inherently each greater than the previous']"
   ]
  },
  {
   "cell_type": "code",
   "execution_count": null,
   "id": "26d9f8ba",
   "metadata": {},
   "outputs": [],
   "source": [
    "q116 = [p0, p_xrange, p_yrange, pLeg0,  pval, p116]"
   ]
  },
  {
   "cell_type": "code",
   "execution_count": null,
   "id": "ce8e39b8",
   "metadata": {},
   "outputs": [],
   "source": [
    "117 Is the < legendlabel > monotonically decreasing?\n",
    "∀i ∈ [x0, xn], i ∈ [y0, ym]: \n",
    "∃({Xi}, Xtitle) ∧\n",
    "∃({Yi}, Ytitle) ∧\n",
    "∀ k0 ∈ [L0, Lh] ∧\n",
    "∃({Lk0}, Legend) ∧\n",
    "Legend_At(Ytitle, {(Yi, Lk0), (Yi+1, Lk0)}\n",
    "Value_At({(Xi, Yi), (Xi+1, Yi+1)}, Ytitle, Lk0) ∧\n",
    "(Xi, Yi) < (Xi+1, Yi+1) ⇒ True"
   ]
  },
  {
   "cell_type": "code",
   "execution_count": null,
   "id": "6c4e3cdc",
   "metadata": {},
   "outputs": [],
   "source": [
    "p117 = ['The y-axis values for the legend __L__  monotonically decrease over the x-axis values.',\n",
    "'The values along the y-axis and across the entire width of the plane for the legend __L__ are inherently each lesser than the previous']"
   ]
  },
  {
   "cell_type": "code",
   "execution_count": null,
   "id": "44a546fa",
   "metadata": {},
   "outputs": [],
   "source": [
    "q117 = [p0, p_xrange, p_yrange, pLeg0,  pval, p117]"
   ]
  },
  {
   "cell_type": "code",
   "execution_count": 163,
   "id": "a19723b6",
   "metadata": {},
   "outputs": [],
   "source": [
    "# PC_exists_x_values = \"There exist n x-values in the data series X.\" \n",
    "# PC_exists_y_values = 'There exist n y-values in the data series Y.'\n",
    "PC_mean_X_calculated ='The mean of X is calculated correctly.'\n",
    "PC_mean_Y_calculated ='The mean of Y is calculated correctly.'\n",
    "PC_deviations_x ='There exist deviations of x-values from the mean of X.'\n",
    "PC_deviations_y ='There exist deviations of y-values from the mean of Y.'\n",
    "PC_products_of_deviations = 'There exist products of deviations.'\n",
    "PC_sum_of_products ='The sum of products of deviations is calculated correctly.'\n",
    "PC_squared_deviations_x ='There exist squared deviations of x-values from the mean of X.'\n",
    "PC_squared_deviations_y = 'There exist squared deviations of y-values from the mean of Y.'\n",
    "PC_sqrt_of_product = 'The square root of the product of the sums of squared deviations is calculated correctly.'\n",
    "PC_sqrt_of_product ='The Pearson correlation coefficient is calculated correctly.'\n",
    "PC__all = [PC_mean_X_calculated, PC_mean_Y_calculated, PC_deviations_x, PC_deviations_y, PC_products_of_deviations, PC_sum_of_products, PC_squared_deviations_x, PC_squared_deviations_y, PC_sqrt_of_product]"
   ]
  },
  {
   "cell_type": "code",
   "execution_count": null,
   "id": "c23d722e",
   "metadata": {},
   "outputs": [],
   "source": [
    "121 Does < legendlabel > have low positive correlation?\n",
    "\n",
    "∀i ∈ [x0, xn], i ∈ [y0, ym]: \n",
    "∃({Xi}, Xtitle) ∧\n",
    "∃({Yi}, Ytitle) ∧\n",
    "Value_At({(Xi, Yi)}, Ytitle) ∧\n",
    "\n",
    "\\bar{X} = \\frac{1}{n} \\sum_{i=1}^{n} x_i\n",
    "\\bar{Y} = \\frac{1}{n} \\sum_{i=1}^{n} y_i\n",
    "\\exists \\{x_1 - \\bar{X}, \\ldots, x_n - \\bar{X}\\}, X\n",
    "\\exists \\{y_1 - \\bar{Y}, \\ldots, y_n - \\bar{Y}\\}, Y\n",
    "\\exists \\{(x_1 - \\bar{X})(y_1 - \\bar{Y}), \\ldots, (x_n - \\bar{X})(y_n - \\bar{Y})\\}\n",
    "\\sum_{i=1}^{n} (x_i - \\bar{X})(y_i - \\bar{Y})\n",
    "\\exists \\{(x_1 - \\bar{X})^2, \\ldots, (x_n - \\bar{X})^2\\}\n",
    "\\exists \\{(y_1 - \\bar{Y})^2, \\ldots, (y_n - \\bar{Y})^2\\}\n",
    "\\sqrt{\\left(\\sum_{i=1}^{n} (x_i - \\bar{X})^2\\right) \\left(\\sum_{i=1}^{n} (y_i - \\bar{Y})^2\\right)}\n",
    "r = \\frac{\\sum_{i=1}^{n} (x_i - \\bar{X})(y_i - \\bar{Y})}{\\sqrt{\\left(\\sum_{i=1}^{n} (x_i - \\bar{X})^2\\right) \\left(\\sum_{i=1}^{n} (y_i - \\bar{Y})^2\\right)}}\n",
    "r>0 and r<=0.5 "
   ]
  },
  {
   "cell_type": "code",
   "execution_count": 164,
   "id": "4f9f12f2",
   "metadata": {
    "collapsed": true
   },
   "outputs": [
    {
     "name": "stdout",
     "output_type": "stream",
     "text": [
      "[['__i0__ is not equal to __i1__ and less than __i1__. Both __i1__ and __i0__ are in the range __minX__ to __maxX__'], ['For the independant axis titled __Xtitle__ the range of tick values represented are __minX__ to __maxX__', 'The range of tick values for the independant axis titled __Xtitle__ is from __minX__ to __maxX__.', '__minX__ to __maxX__: The valid tick values range for the independant axis titled __Xtitle__ in the given chart', '__Xi0__ and __Xi1 are valid values for ticks on x axis', 'Valid values for ticks on indepandant axis include __Xi0__ and __Xi1'], ['For the dependant axis in the chart titled __Ytitle__ the range of tick values represented are __minY__ to __maxY__.', 'The range of tick values for the dependant axis having the title, __Ytitle__ in this chart is from __minY__ to __maxY__.', 'The dependant axis titled __Ytitle__ displays tick values from __minY__ to __maxY__ for this chart.The dependant axis __Ytitle__ on the chart  has tick values that span from __minY__ to __maxY__.', '__Yi0__ and __Yi1__ are valid values for ticks on y axis', 'Valid values for ticks on depandant axis include __Yi0__ and __Yi1__'], ['Value in the chart plot area exists at (__Xi0__ , __Yi0__), (__Xi1__ , __Yi1__) for the axis called __Ytitle__', 'The axis of __Ytitle__ has values at points (__Xi0__ , __Yi0__), (__Xi1__ , __Yi1__)', 'For the axis of __Ytitle__, there are valid plot values corresponding to (__Xi0__ , __Yi0__), (__Xi1__ , __Yi1__)']]\n",
      "['The mean of X is calculated correctly.', 'The mean of Y is calculated correctly.', 'There exist deviations of x-values from the mean of X.', 'There exist deviations of y-values from the mean of Y.', 'There exist products of deviations.', 'The sum of products of deviations is calculated correctly.', 'There exist squared deviations of x-values from the mean of X.', 'There exist squared deviations of y-values from the mean of Y.', 'The Pearson correlation coefficient is calculated correctly.']\n",
      "[['__i0__ is not equal to __i1__ and less than __i1__. Both __i1__ and __i0__ are in the range __minX__ to __maxX__'], ['For the independant axis titled __Xtitle__ the range of tick values represented are __minX__ to __maxX__', 'The range of tick values for the independant axis titled __Xtitle__ is from __minX__ to __maxX__.', '__minX__ to __maxX__: The valid tick values range for the independant axis titled __Xtitle__ in the given chart', '__Xi0__ and __Xi1 are valid values for ticks on x axis', 'Valid values for ticks on indepandant axis include __Xi0__ and __Xi1'], ['For the dependant axis in the chart titled __Ytitle__ the range of tick values represented are __minY__ to __maxY__.', 'The range of tick values for the dependant axis having the title, __Ytitle__ in this chart is from __minY__ to __maxY__.', 'The dependant axis titled __Ytitle__ displays tick values from __minY__ to __maxY__ for this chart.The dependant axis __Ytitle__ on the chart  has tick values that span from __minY__ to __maxY__.', '__Yi0__ and __Yi1__ are valid values for ticks on y axis', 'Valid values for ticks on depandant axis include __Yi0__ and __Yi1__'], ['Value in the chart plot area exists at (__Xi0__ , __Yi0__), (__Xi1__ , __Yi1__) for the axis called __Ytitle__', 'The axis of __Ytitle__ has values at points (__Xi0__ , __Yi0__), (__Xi1__ , __Yi1__)', 'For the axis of __Ytitle__, there are valid plot values corresponding to (__Xi0__ , __Yi0__), (__Xi1__ , __Yi1__)'], 'The mean of X is calculated correctly.', 'The mean of Y is calculated correctly.', 'There exist deviations of x-values from the mean of X.', 'There exist deviations of y-values from the mean of Y.', 'There exist products of deviations.', 'The sum of products of deviations is calculated correctly.', 'There exist squared deviations of x-values from the mean of X.', 'There exist squared deviations of y-values from the mean of Y.', 'The Pearson correlation coefficient is calculated correctly.']\n",
      "[['__i0__ is not equal to __i1__ and less than __i1__. Both __i1__ and __i0__ are in the range __minX__ to __maxX__'], ['For the independant axis titled __Xtitle__ the range of tick values represented are __minX__ to __maxX__', 'The range of tick values for the independant axis titled __Xtitle__ is from __minX__ to __maxX__.', '__minX__ to __maxX__: The valid tick values range for the independant axis titled __Xtitle__ in the given chart', '__Xi0__ and __Xi1 are valid values for ticks on x axis', 'Valid values for ticks on indepandant axis include __Xi0__ and __Xi1'], ['For the dependant axis in the chart titled __Ytitle__ the range of tick values represented are __minY__ to __maxY__.', 'The range of tick values for the dependant axis having the title, __Ytitle__ in this chart is from __minY__ to __maxY__.', 'The dependant axis titled __Ytitle__ displays tick values from __minY__ to __maxY__ for this chart.The dependant axis __Ytitle__ on the chart  has tick values that span from __minY__ to __maxY__.', '__Yi0__ and __Yi1__ are valid values for ticks on y axis', 'Valid values for ticks on depandant axis include __Yi0__ and __Yi1__'], ['Value in the chart plot area exists at (__Xi0__ , __Yi0__), (__Xi1__ , __Yi1__) for the axis called __Ytitle__', 'The axis of __Ytitle__ has values at points (__Xi0__ , __Yi0__), (__Xi1__ , __Yi1__)', 'For the axis of __Ytitle__, there are valid plot values corresponding to (__Xi0__ , __Yi0__), (__Xi1__ , __Yi1__)'], 'The mean of X is calculated correctly.', 'The mean of Y is calculated correctly.', 'There exist deviations of x-values from the mean of X.', 'There exist deviations of y-values from the mean of Y.', 'There exist products of deviations.', 'The sum of products of deviations is calculated correctly.', 'There exist squared deviations of x-values from the mean of X.', 'There exist squared deviations of y-values from the mean of Y.', 'The Pearson correlation coefficient is calculated correctly.', '< legendlabel > has correlation value greater than 0 but less than equal to 0.5']\n"
     ]
    }
   ],
   "source": [
    "p121 = '< legendlabel > has correlation value greater than 0 but less than equal to 0.5'\n",
    "q121 = [p0, p_xrange, p_yrange, p_Val]\n",
    "print(q121)\n",
    "q121.extend(PC__all)\n",
    "print(PC__all)\n",
    "print(q121)\n",
    "q121.extend([p121])\n",
    "print(q121)"
   ]
  },
  {
   "cell_type": "code",
   "execution_count": null,
   "id": "d3f23717",
   "metadata": {},
   "outputs": [],
   "source": [
    "122 Does < legendlabel > have high positive correlation?\n",
    "\n",
    "\n",
    "∀i ∈ [x0, xn], i ∈ [y0, ym]: \n",
    "∃({Xi}, Xtitle) ∧\n",
    "∃({Yi}, Ytitle) ∧\n",
    "Value_At({(Xi, Yi)}, Ytitle) ∧\n",
    "\n",
    "\\bar{X} = \\frac{1}{n} \\sum_{i=1}^{n} x_i\n",
    "\\bar{Y} = \\frac{1}{n} \\sum_{i=1}^{n} y_i\n",
    "\\exists \\{x_1 - \\bar{X}, \\ldots, x_n - \\bar{X}\\}, X\n",
    "\\exists \\{y_1 - \\bar{Y}, \\ldots, y_n - \\bar{Y}\\}, Y\n",
    "\\exists \\{(x_1 - \\bar{X})(y_1 - \\bar{Y}), \\ldots, (x_n - \\bar{X})(y_n - \\bar{Y})\\}\n",
    "\\sum_{i=1}^{n} (x_i - \\bar{X})(y_i - \\bar{Y})\n",
    "\\exists \\{(x_1 - \\bar{X})^2, \\ldots, (x_n - \\bar{X})^2\\}\n",
    "\\exists \\{(y_1 - \\bar{Y})^2, \\ldots, (y_n - \\bar{Y})^2\\}\n",
    "\\sqrt{\\left(\\sum_{i=1}^{n} (x_i - \\bar{X})^2\\right) \\left(\\sum_{i=1}^{n} (y_i - \\bar{Y})^2\\right)}\n",
    "r = \\frac{\\sum_{i=1}^{n} (x_i - \\bar{X})(y_i - \\bar{Y})}{\\sqrt{\\left(\\sum_{i=1}^{n} (x_i - \\bar{X})^2\\right) \\left(\\sum_{i=1}^{n} (y_i - \\bar{Y})^2\\right)}}\n",
    "r>0.5 and r<1 "
   ]
  },
  {
   "cell_type": "code",
   "execution_count": 166,
   "id": "42bcd8d1",
   "metadata": {
    "collapsed": true
   },
   "outputs": [
    {
     "name": "stdout",
     "output_type": "stream",
     "text": [
      "[['__i0__ is not equal to __i1__ and less than __i1__. Both __i1__ and __i0__ are in the range __minX__ to __maxX__'], ['For the independant axis titled __Xtitle__ the range of tick values represented are __minX__ to __maxX__', 'The range of tick values for the independant axis titled __Xtitle__ is from __minX__ to __maxX__.', '__minX__ to __maxX__: The valid tick values range for the independant axis titled __Xtitle__ in the given chart', '__Xi0__ and __Xi1 are valid values for ticks on x axis', 'Valid values for ticks on indepandant axis include __Xi0__ and __Xi1'], ['For the dependant axis in the chart titled __Ytitle__ the range of tick values represented are __minY__ to __maxY__.', 'The range of tick values for the dependant axis having the title, __Ytitle__ in this chart is from __minY__ to __maxY__.', 'The dependant axis titled __Ytitle__ displays tick values from __minY__ to __maxY__ for this chart.The dependant axis __Ytitle__ on the chart  has tick values that span from __minY__ to __maxY__.', '__Yi0__ and __Yi1__ are valid values for ticks on y axis', 'Valid values for ticks on depandant axis include __Yi0__ and __Yi1__'], ['Value in the chart plot area exists at (__Xi0__ , __Yi0__), (__Xi1__ , __Yi1__) for the axis called __Ytitle__', 'The axis of __Ytitle__ has values at points (__Xi0__ , __Yi0__), (__Xi1__ , __Yi1__)', 'For the axis of __Ytitle__, there are valid plot values corresponding to (__Xi0__ , __Yi0__), (__Xi1__ , __Yi1__)']]\n",
      "['The mean of X is calculated correctly.', 'The mean of Y is calculated correctly.', 'There exist deviations of x-values from the mean of X.', 'There exist deviations of y-values from the mean of Y.', 'There exist products of deviations.', 'The sum of products of deviations is calculated correctly.', 'There exist squared deviations of x-values from the mean of X.', 'There exist squared deviations of y-values from the mean of Y.', 'The Pearson correlation coefficient is calculated correctly.']\n",
      "[['__i0__ is not equal to __i1__ and less than __i1__. Both __i1__ and __i0__ are in the range __minX__ to __maxX__'], ['For the independant axis titled __Xtitle__ the range of tick values represented are __minX__ to __maxX__', 'The range of tick values for the independant axis titled __Xtitle__ is from __minX__ to __maxX__.', '__minX__ to __maxX__: The valid tick values range for the independant axis titled __Xtitle__ in the given chart', '__Xi0__ and __Xi1 are valid values for ticks on x axis', 'Valid values for ticks on indepandant axis include __Xi0__ and __Xi1'], ['For the dependant axis in the chart titled __Ytitle__ the range of tick values represented are __minY__ to __maxY__.', 'The range of tick values for the dependant axis having the title, __Ytitle__ in this chart is from __minY__ to __maxY__.', 'The dependant axis titled __Ytitle__ displays tick values from __minY__ to __maxY__ for this chart.The dependant axis __Ytitle__ on the chart  has tick values that span from __minY__ to __maxY__.', '__Yi0__ and __Yi1__ are valid values for ticks on y axis', 'Valid values for ticks on depandant axis include __Yi0__ and __Yi1__'], ['Value in the chart plot area exists at (__Xi0__ , __Yi0__), (__Xi1__ , __Yi1__) for the axis called __Ytitle__', 'The axis of __Ytitle__ has values at points (__Xi0__ , __Yi0__), (__Xi1__ , __Yi1__)', 'For the axis of __Ytitle__, there are valid plot values corresponding to (__Xi0__ , __Yi0__), (__Xi1__ , __Yi1__)'], 'The mean of X is calculated correctly.', 'The mean of Y is calculated correctly.', 'There exist deviations of x-values from the mean of X.', 'There exist deviations of y-values from the mean of Y.', 'There exist products of deviations.', 'The sum of products of deviations is calculated correctly.', 'There exist squared deviations of x-values from the mean of X.', 'There exist squared deviations of y-values from the mean of Y.', 'The Pearson correlation coefficient is calculated correctly.']\n",
      "[['__i0__ is not equal to __i1__ and less than __i1__. Both __i1__ and __i0__ are in the range __minX__ to __maxX__'], ['For the independant axis titled __Xtitle__ the range of tick values represented are __minX__ to __maxX__', 'The range of tick values for the independant axis titled __Xtitle__ is from __minX__ to __maxX__.', '__minX__ to __maxX__: The valid tick values range for the independant axis titled __Xtitle__ in the given chart', '__Xi0__ and __Xi1 are valid values for ticks on x axis', 'Valid values for ticks on indepandant axis include __Xi0__ and __Xi1'], ['For the dependant axis in the chart titled __Ytitle__ the range of tick values represented are __minY__ to __maxY__.', 'The range of tick values for the dependant axis having the title, __Ytitle__ in this chart is from __minY__ to __maxY__.', 'The dependant axis titled __Ytitle__ displays tick values from __minY__ to __maxY__ for this chart.The dependant axis __Ytitle__ on the chart  has tick values that span from __minY__ to __maxY__.', '__Yi0__ and __Yi1__ are valid values for ticks on y axis', 'Valid values for ticks on depandant axis include __Yi0__ and __Yi1__'], ['Value in the chart plot area exists at (__Xi0__ , __Yi0__), (__Xi1__ , __Yi1__) for the axis called __Ytitle__', 'The axis of __Ytitle__ has values at points (__Xi0__ , __Yi0__), (__Xi1__ , __Yi1__)', 'For the axis of __Ytitle__, there are valid plot values corresponding to (__Xi0__ , __Yi0__), (__Xi1__ , __Yi1__)'], 'The mean of X is calculated correctly.', 'The mean of Y is calculated correctly.', 'There exist deviations of x-values from the mean of X.', 'There exist deviations of y-values from the mean of Y.', 'There exist products of deviations.', 'The sum of products of deviations is calculated correctly.', 'There exist squared deviations of x-values from the mean of X.', 'There exist squared deviations of y-values from the mean of Y.', 'The Pearson correlation coefficient is calculated correctly.', '< legendlabel > has correlation value greater than 0.5 but less than 1']\n"
     ]
    }
   ],
   "source": [
    "p122 = '< legendlabel > has correlation value greater than 0.5 but less than 1'\n",
    "q122 = [p0, p_xrange, p_yrange, p_Val]\n",
    "print(q122)\n",
    "q122.extend(PC__all)\n",
    "print(PC__all)\n",
    "print(q122)\n",
    "q122.extend([p122])\n",
    "print(q122)"
   ]
  },
  {
   "cell_type": "code",
   "execution_count": null,
   "id": "ab32bb98",
   "metadata": {},
   "outputs": [],
   "source": [
    "123 Does < legendlabel > have low negative correlation?\n",
    "\n",
    "\n",
    "∀i ∈ [x0, xn], i ∈ [y0, ym]: \n",
    "∃({Xi}, Xtitle) ∧\n",
    "∃({Yi}, Ytitle) ∧\n",
    "Value_At({(Xi, Yi)}, Ytitle) ∧\n",
    "\n",
    "\\bar{X} = \\frac{1}{n} \\sum_{i=1}^{n} x_i\n",
    "\\bar{Y} = \\frac{1}{n} \\sum_{i=1}^{n} y_i\n",
    "\\exists \\{x_1 - \\bar{X}, \\ldots, x_n - \\bar{X}\\}, X\n",
    "\\exists \\{y_1 - \\bar{Y}, \\ldots, y_n - \\bar{Y}\\}, Y\n",
    "\\exists \\{(x_1 - \\bar{X})(y_1 - \\bar{Y}), \\ldots, (x_n - \\bar{X})(y_n - \\bar{Y})\\}\n",
    "\\sum_{i=1}^{n} (x_i - \\bar{X})(y_i - \\bar{Y})\n",
    "\\exists \\{(x_1 - \\bar{X})^2, \\ldots, (x_n - \\bar{X})^2\\}\n",
    "\\exists \\{(y_1 - \\bar{Y})^2, \\ldots, (y_n - \\bar{Y})^2\\}\n",
    "\\sqrt{\\left(\\sum_{i=1}^{n} (x_i - \\bar{X})^2\\right) \\left(\\sum_{i=1}^{n} (y_i - \\bar{Y})^2\\right)}\n",
    "r = \\frac{\\sum_{i=1}^{n} (x_i - \\bar{X})(y_i - \\bar{Y})}{\\sqrt{\\left(\\sum_{i=1}^{n} (x_i - \\bar{X})^2\\right) \\left(\\sum_{i=1}^{n} (y_i - \\bar{Y})^2\\right)}}\n",
    "r>=-0.5 and r<0 "
   ]
  },
  {
   "cell_type": "code",
   "execution_count": null,
   "id": "7acd3db9",
   "metadata": {},
   "outputs": [],
   "source": [
    "p123 = '< legendlabel > has correlation value greater than -0.5 but less than 0'\n",
    "q123 = [p0, p_xrange, p_yrange, p_Val]\n",
    "q123.extend(PC__all)\n",
    "q123.extend([p123])\n"
   ]
  },
  {
   "cell_type": "code",
   "execution_count": null,
   "id": "1adec5ef",
   "metadata": {},
   "outputs": [],
   "source": [
    "124 Does < legendlabel > have low negative correlation?\n",
    "\n",
    "\n",
    "∀i ∈ [x0, xn], i ∈ [y0, ym]: \n",
    "∃({Xi}, Xtitle) ∧\n",
    "∃({Yi}, Ytitle) ∧\n",
    "Value_At({(Xi, Yi)}, Ytitle) ∧\n",
    "\n",
    "\\bar{X} = \\frac{1}{n} \\sum_{i=1}^{n} x_i\n",
    "\\bar{Y} = \\frac{1}{n} \\sum_{i=1}^{n} y_i\n",
    "\\exists \\{x_1 - \\bar{X}, \\ldots, x_n - \\bar{X}\\}, X\n",
    "\\exists \\{y_1 - \\bar{Y}, \\ldots, y_n - \\bar{Y}\\}, Y\n",
    "\\exists \\{(x_1 - \\bar{X})(y_1 - \\bar{Y}), \\ldots, (x_n - \\bar{X})(y_n - \\bar{Y})\\}\n",
    "\\sum_{i=1}^{n} (x_i - \\bar{X})(y_i - \\bar{Y})\n",
    "\\exists \\{(x_1 - \\bar{X})^2, \\ldots, (x_n - \\bar{X})^2\\}\n",
    "\\exists \\{(y_1 - \\bar{Y})^2, \\ldots, (y_n - \\bar{Y})^2\\}\n",
    "\\sqrt{\\left(\\sum_{i=1}^{n} (x_i - \\bar{X})^2\\right) \\left(\\sum_{i=1}^{n} (y_i - \\bar{Y})^2\\right)}\n",
    "r = \\frac{\\sum_{i=1}^{n} (x_i - \\bar{X})(y_i - \\bar{Y})}{\\sqrt{\\left(\\sum_{i=1}^{n} (x_i - \\bar{X})^2\\right) \\left(\\sum_{i=1}^{n} (y_i - \\bar{Y})^2\\right)}}\n",
    "r>=-1 and r<-0.5 "
   ]
  },
  {
   "cell_type": "code",
   "execution_count": 167,
   "id": "5b71a792",
   "metadata": {},
   "outputs": [],
   "source": [
    "p124 = '< legendlabel > has correlation value greater than -1 but less than -0.50'\n",
    "q124 = [p0, p_xrange, p_yrange, p_Val]\n",
    "q124.extend(PC__all)\n",
    "q124.extend([p124])\n"
   ]
  },
  {
   "cell_type": "code",
   "execution_count": 168,
   "id": "d1982f2b",
   "metadata": {},
   "outputs": [
    {
     "name": "stdout",
     "output_type": "stream",
     "text": [
      "15 ['1', '10', '16', '16a', '27', '28a', '29', '63a', '65a', '73', '73a', '74', '75', '89', '91']\n"
     ]
    }
   ],
   "source": [
    "prems_left = ['1', '10', '16', '16a', '27', '28a', '29', '63a', '65a', '73', '73a', '74', '75', '89', '91']\n",
    "print(len(prems_left), sorted(prems_left))\n"
   ]
  },
  {
   "cell_type": "code",
   "execution_count": 51,
   "id": "8f18d982",
   "metadata": {
    "collapsed": true
   },
   "outputs": [
    {
     "ename": "NameError",
     "evalue": "name 'p72' is not defined",
     "output_type": "error",
     "traceback": [
      "\u001b[0;31m---------------------------------------------------------------------------\u001b[0m",
      "\u001b[0;31mNameError\u001b[0m                                 Traceback (most recent call last)",
      "\u001b[0;32m/tmp/ipykernel_1211841/824073296.py\u001b[0m in \u001b[0;36m<module>\u001b[0;34m\u001b[0m\n\u001b[1;32m      2\u001b[0m \u001b[0mstruct\u001b[0m \u001b[0;34m=\u001b[0m \u001b[0;34m[\u001b[0m\u001b[0mp_xrange\u001b[0m\u001b[0;34m,\u001b[0m \u001b[0mp_yrange\u001b[0m\u001b[0;34m,\u001b[0m \u001b[0mpLeg\u001b[0m\u001b[0;34m]\u001b[0m\u001b[0;34m\u001b[0m\u001b[0;34m\u001b[0m\u001b[0m\n\u001b[1;32m      3\u001b[0m \u001b[0mret\u001b[0m \u001b[0;34m=\u001b[0m \u001b[0;34m[\u001b[0m\u001b[0mp_Val\u001b[0m\u001b[0;34m,\u001b[0m \u001b[0mpMax\u001b[0m\u001b[0;34m]\u001b[0m\u001b[0;34m\u001b[0m\u001b[0;34m\u001b[0m\u001b[0m\n\u001b[0;32m----> 4\u001b[0;31m \u001b[0mres\u001b[0m \u001b[0;34m=\u001b[0m \u001b[0;34m[\u001b[0m\u001b[0mp63\u001b[0m\u001b[0;34m,\u001b[0m \u001b[0mp65\u001b[0m\u001b[0;34m,\u001b[0m \u001b[0mp72\u001b[0m\u001b[0;34m]\u001b[0m\u001b[0;34m\u001b[0m\u001b[0;34m\u001b[0m\u001b[0m\n\u001b[0m",
      "\u001b[0;31mNameError\u001b[0m: name 'p72' is not defined"
     ]
    }
   ],
   "source": [
    "root = [p0, p0i0, p0j0, p0i2, p0j2, pLeg0, pLineCount, pLegCount, pMarkCount]\n",
    "struct = [p_xrange, p_yrange, pLeg, pFQexist, pTQexist]\n",
    "ret = [p_Val, pMax, pFQval, pTQval, pMedian, pMinBox, pMaxBox, PC_mean_X_calculated, PC_mean_Y_calculated, PC_deviations_x, PC_deviations_y]\n",
    "res = [p18aT, p18aF, p18T, p18F, p35, p59, p62, p63, p65, p68, p72,p116, p117, p121, p122, p123, p124, p146, p166, p167, p168, p169, p170, PC_products_of_deviations, PC_sum_of_products, PC_squared_deviations_x, PC_squared_deviations_y, PC_sqrt_of_product, PC_sqrt_of_product ]"
   ]
  },
  {
   "cell_type": "code",
   "execution_count": 147,
   "id": "7b5c8555",
   "metadata": {},
   "outputs": [
    {
     "name": "stdout",
     "output_type": "stream",
     "text": [
      "Variables:\n",
      "- X: \\exists \\{x_1, \\ldots, x_n\\}, X\n",
      "- Y: \\exists \\{y_1, \\ldots, y_n\\}, Y\n",
      "- n: The number of data points\n",
      "- \\bar{X}: \\bar{X} = \\frac{1}{n} \\sum_{i=1}^{n} x_i\n",
      "- \\bar{Y}: \\bar{Y} = \\frac{1}{n} \\sum_{i=1}^{n} y_i\n",
      "- r: r = \\frac{\\sum_{i=1}^{n} (x_i - \\bar{X})(y_i - \\bar{Y})}{\\sqrt{\\left(\\sum_{i=1}^{n} (x_i - \\bar{X})^2\\right) \\left(\\sum_{i=1}^{n} (y_i - \\bar{Y})^2\\right)}}\n",
      "\n",
      "Premises:\n",
      " \\exists \\{x_1, \\ldots, x_n\\}, X\n",
      " \\exists \\{y_1, \\ldots, y_n\\}, Y\n",
      " \\bar{X} = \\frac{1}{n} \\sum_{i=1}^{n} x_i\n",
      "\\bar{Y} = \\frac{1}{n} \\sum_{i=1}^{n} y_i\n",
      "\\exists \\{x_1 - \\bar{X}, \\ldots, x_n - \\bar{X}\\}, X\n",
      " \\exists \\{y_1 - \\bar{Y}, \\ldots, y_n - \\bar{Y}\\}, Y\n",
      "\\exists \\{(x_1 - \\bar{X})(y_1 - \\bar{Y}), \\ldots, (x_n - \\bar{X})(y_n - \\bar{Y})\\}\n",
      " \\sum_{i=1}^{n} (x_i - \\bar{X})(y_i - \\bar{Y})\n",
      "\\exists \\{(x_1 - \\bar{X})^2, \\ldots, (x_n - \\bar{X})^2\\}\n",
      " \\exists \\{(y_1 - \\bar{Y})^2, \\ldots, (y_n - \\bar{Y})^2\\}\n",
      "\\sqrt{\\left(\\sum_{i=1}^{n} (x_i - \\bar{X})^2\\right) \\left(\\sum_{i=1}^{n} (y_i - \\bar{Y})^2\\right)}\n",
      "r = \\frac{\\sum_{i=1}^{n} (x_i - \\bar{X})(y_i - \\bar{Y})}{\\sqrt{\\left(\\sum_{i=1}^{n} (x_i - \\bar{X})^2\\right) \\left(\\sum_{i=1}^{n} (y_i - \\bar{Y})^2\\right)}}\n"
     ]
    }
   ],
   "source": [
    "# Variables\n",
    "# X: The data series corresponding to the x-values in the scatter plot\n",
    "# Y: The data series corresponding to the y-values in the scatter plot\n",
    "# n: The number of data points\n",
    "# \\bar{X}: The mean of X\n",
    "# \\bar{Y}: The mean of Y\n",
    "# r: The Pearson correlation coefficient\n",
    "\n",
    "# Premises\n",
    "\n",
    "# 1. There exist n x-values in the data series X.\n",
    "exists_x_values = \"\\\\exists \\\\{x_1, \\\\ldots, x_n\\\\}, X\"\n",
    "\n",
    "# 2. There exist n y-values in the data series Y.\n",
    "exists_y_values = \"\\\\exists \\\\{y_1, \\\\ldots, y_n\\\\}, Y\"\n",
    "\n",
    "# 3. The mean of X is calculated correctly.\n",
    "mean_X_calculated = \"\\\\bar{X} = \\\\frac{1}{n} \\\\sum_{i=1}^{n} x_i\"\n",
    "\n",
    "# 4. The mean of Y is calculated correctly.\n",
    "mean_Y_calculated = \"\\\\bar{Y} = \\\\frac{1}{n} \\\\sum_{i=1}^{n} y_i\"\n",
    "\n",
    "# 5. There exist deviations of x-values from the mean of X.\n",
    "deviations_x = \"\\\\exists \\\\{x_1 - \\\\bar{X}, \\\\ldots, x_n - \\\\bar{X}\\\\}, X\"\n",
    "\n",
    "# 6. There exist deviations of y-values from the mean of Y.\n",
    "deviations_y = \"\\\\exists \\\\{y_1 - \\\\bar{Y}, \\\\ldots, y_n - \\\\bar{Y}\\\\}, Y\"\n",
    "\n",
    "# 7. There exist products of deviations.\n",
    "products_of_deviations = \"\\\\exists \\\\{(x_1 - \\\\bar{X})(y_1 - \\\\bar{Y}), \\\\ldots, (x_n - \\\\bar{X})(y_n - \\\\bar{Y})\\\\}\"\n",
    "\n",
    "# 8. The sum of products of deviations is calculated correctly.\n",
    "sum_of_products = \"\\\\sum_{i=1}^{n} (x_i - \\\\bar{X})(y_i - \\\\bar{Y})\"\n",
    "\n",
    "# 9. There exist squared deviations of x-values from the mean of X.\n",
    "squared_deviations_x = \"\\\\exists \\\\{(x_1 - \\\\bar{X})^2, \\\\ldots, (x_n - \\\\bar{X})^2\\\\}\"\n",
    "\n",
    "# 10. There exist squared deviations of y-values from the mean of Y.\n",
    "squared_deviations_y = \"\\\\exists \\\\{(y_1 - \\\\bar{Y})^2, \\\\ldots, (y_n - \\\\bar{Y})^2\\\\}\"\n",
    "\n",
    "# 11. The square root of the product of the sums of squared deviations is calculated correctly.\n",
    "sqrt_of_product = \"\\\\sqrt{\\\\left(\\\\sum_{i=1}^{n} (x_i - \\\\bar{X})^2\\\\right) \\\\left(\\\\sum_{i=1}^{n} (y_i - \\\\bar{Y})^2\\\\right)}\"\n",
    "\n",
    "# 12. The Pearson correlation coefficient is calculated correctly.\n",
    "pearson_correlation = \"r = \\\\frac{\\\\sum_{i=1}^{n} (x_i - \\\\bar{X})(y_i - \\\\bar{Y})}{\\\\sqrt{\\\\left(\\\\sum_{i=1}^{n} (x_i - \\\\bar{X})^2\\\\right) \\\\left(\\\\sum_{i=1}^{n} (y_i - \\\\bar{Y})^2\\\\right)}}\"\n",
    "\n",
    "# Print the premises\n",
    "print(\"Variables:\")\n",
    "print(f\"- X: {exists_x_values}\")\n",
    "print(f\"- Y: {exists_y_values}\")\n",
    "print(f\"- n: The number of data points\")\n",
    "print(f\"- \\\\bar{{X}}: {mean_X_calculated}\")\n",
    "print(f\"- \\\\bar{{Y}}: {mean_Y_calculated}\")\n",
    "print(f\"- r: {pearson_correlation}\")\n",
    "\n",
    "print(\"\\nPremises:\")\n",
    "print(f\" {exists_x_values}\")\n",
    "print(f\" {exists_y_values}\")\n",
    "print(f\" {mean_X_calculated}\")\n",
    "print(f\"{mean_Y_calculated}\")\n",
    "print(f\"{deviations_x}\")\n",
    "print(f\" {deviations_y}\")\n",
    "print(f\"{products_of_deviations}\")\n",
    "print(f\" {sum_of_products}\")\n",
    "print(f\"{squared_deviations_x}\")\n",
    "print(f\" {squared_deviations_y}\")\n",
    "print(f\"{sqrt_of_product}\")\n",
    "print(f\"{pearson_correlation}\")\n"
   ]
  },
  {
   "cell_type": "code",
   "execution_count": null,
   "id": "d8fc6f7e",
   "metadata": {},
   "outputs": [],
   "source": [
    "\n",
    "\n",
    "\n",
    " \n",
    "\n",
    "\n",
    "\n",
    "\n",
    "\n",
    "    65a Is the sum of the value of < Y title >in < ith x tick > and < (i + 1)th x tick > greater than the maximum\n",
    " value of < Y title >across all major ticks on independent axis?\n",
    " \n",
    "73a Is the sum of the values of < Y title >for < legendlabel1 > at < ith x tick > and <401\n",
    " jth x tick > greater than the maximum value of < Y title >for < legendlabel2 > across all major402\n",
    " ticks on independent axis?403\n",
    "\n",
    "\n",
    "63a Is the difference between the value of < Y title >at < ith x tick > and < jth x tick > greater\n",
    " than the difference between any two major ticks on the independent axis?\n",
    "\n",
    " \n",
    "410\n",
    "\n",
    "124 Does < legendlabel > have high negative correlation?411"
   ]
  },
  {
   "cell_type": "code",
   "execution_count": 8,
   "id": "8e90c51a",
   "metadata": {},
   "outputs": [],
   "source": [
    "import astor "
   ]
  },
  {
   "cell_type": "code",
   "execution_count": 9,
   "id": "c819572e",
   "metadata": {},
   "outputs": [
    {
     "name": "stdout",
     "output_type": "stream",
     "text": [
      "True\n",
      "i in range(x0, xn + 1) and j in range(y0, ym + 1)\n",
      "exists(Xi, Xtitle) and exists(Xj, Xtitle)\n",
      "exists(Yi, Ytitle) and exists(Yj, Ytitle)\n",
      "Value_At([Xi, Yi], [Xtitle])\n",
      "Min_Value((Xi, Yi), Ytitle)\n",
      "Min_Value((Xj, Yj), Ytitle)\n",
      "(Xj, Yj) - (Xi, Yi) > 0\n",
      "\n"
     ]
    }
   ],
   "source": [
    "\n",
    "print(astor.to_source(full_ast))"
   ]
  },
  {
   "cell_type": "code",
   "execution_count": 41,
   "id": "a4d37906",
   "metadata": {},
   "outputs": [
    {
     "name": "stdout",
     "output_type": "stream",
     "text": [
      "60\n"
     ]
    },
    {
     "data": {
      "image/png": "[encoded data removed]",
      "text/plain": [
       "<Figure size 640x480 with 1 Axes>"
      ]
     },
     "metadata": {},
     "output_type": "display_data"
    }
   ],
   "source": [
    "import ast\n",
    "from sympy import symbols\n",
    "import networkx as nx\n",
    "import matplotlib.pyplot as plt\n",
    "\n",
    "def parse_ast_to_nx_simple(node, G=None, parent_name=None, graph_label=None):\n",
    "    if G is None:\n",
    "        G = nx.DiGraph()\n",
    "\n",
    "    # Get a unique name for the node\n",
    "    if parent_name is not None:\n",
    "        node_name = f\"{parent_name}_{len(G)}\"\n",
    "    else:\n",
    "        node_name = str(len(G))\n",
    "\n",
    "    # Add node to the graph if it's a variable or predicate\n",
    "    if isinstance(node, (ast.Name, ast.Call)):\n",
    "        if isinstance(node, ast.Name):\n",
    "            label_id = node.id\n",
    "        elif isinstance(node, ast.Call):\n",
    "            label_id = node.func.id\n",
    "        else:\n",
    "            label_id = None\n",
    "\n",
    "        if label_id is not None:\n",
    "            G.add_node(node_name, label=label_id, graph_label=graph_label)\n",
    "\n",
    "            # Add edge between the current node and its parent\n",
    "            if parent_name is not None:\n",
    "                G.add_edge(parent_name, node_name)\n",
    "\n",
    "    # Recursively add child nodes\n",
    "    if isinstance(node, ast.AST):\n",
    "        for child_name, child_node in ast.iter_fields(node):\n",
    "            parse_ast_to_nx_simple(child_node, G, node_name, child_name)\n",
    "\n",
    "    elif isinstance(node, list):\n",
    "        for i, item in enumerate(node):\n",
    "            parse_ast_to_nx_simple(item, G, parent_name, f\"list[{i}]\")\n",
    "\n",
    "    return G\n",
    "\n",
    "\n",
    "\n",
    "# Example usage\n",
    "i, j, x0, xn, y0, ym, Xi, Xj, Xtitle, Yi, Yj, Ytitle = symbols('i j x0 xn y0 ym Xi Xj Xtitle Yi Yj Ytitle')\n",
    "\n",
    "# Premises\n",
    "premise1 = ast.parse(\"True\")\n",
    "premise2 = ast.parse(f\"({i} in range({x0}, {xn} + 1)) and ({j} in range({y0}, {ym} + 1))\")\n",
    "premise3 = ast.parse(f\"exists({Xi}, {Xtitle}) and exists({Xj}, {Xtitle})\")\n",
    "premise4 = ast.parse(f\"exists({Yi}, {Ytitle}) and exists({Yj}, {Ytitle})\")\n",
    "premise5 = ast.parse(f\"Value_At([Xi, Yi], [Xtitle])\")\n",
    "premise6 = ast.parse(f\"Min_Value(({Xi}, {Yi}), {Ytitle})\")\n",
    "premise7 = ast.parse(f\"Min_Value(({Xj}, {Yj}), {Ytitle})\")\n",
    "premise8 = ast.parse(f\"({Xj}, {Yj}) - ({Xi}, {Yi}) > 0\")\n",
    "\n",
    "# Combine all premises\n",
    "full_ast = ast.Module(body=[premise1, premise2, premise3, premise4, premise5, premise6, premise7, premise8])\n",
    "\n",
    "# Parse AST to networkx graph\n",
    "graph_simple = parse_ast_to_nx_simple(full_ast)\n",
    "\n",
    "# Draw the simplified graph\n",
    "if graph_simple.number_of_nodes() > 0:\n",
    "    print(graph_simple.number_of_nodes())\n",
    "    pos_simple = nx.kamada_kawai_layout(graph_simple)\n",
    "    labels_simple = nx.get_edge_attributes(graph_simple, 'label')\n",
    "    nx.draw(graph_simple, pos_simple, with_labels=True, labels=nx.get_node_attributes(graph_simple, 'label'))\n",
    "    nx.draw_networkx_edge_labels(graph_simple, pos_simple, edge_labels=labels_simple)\n",
    "    plt.show()\n",
    "else:\n",
    "    print(\"The simplified graph has 0 nodes and 0 edges.\")\n"
   ]
  },
  {
   "cell_type": "code",
   "execution_count": 42,
   "id": "a702fcc8",
   "metadata": {},
   "outputs": [
    {
     "ename": "TypeError",
     "evalue": "kamada_kawai_layout() got an unexpected keyword argument 'k'",
     "output_type": "error",
     "traceback": [
      "\u001b[0;31m---------------------------------------------------------------------------\u001b[0m",
      "\u001b[0;31mTypeError\u001b[0m                                 Traceback (most recent call last)",
      "\u001b[0;32m/tmp/ipykernel_155170/4036143517.py\u001b[0m in \u001b[0;36m<module>\u001b[0;34m\u001b[0m\n\u001b[1;32m      4\u001b[0m \u001b[0;34m\u001b[0m\u001b[0m\n\u001b[1;32m      5\u001b[0m \u001b[0;31m# Draw the simplified graph with Kamada-Kawai layout and constraints\u001b[0m\u001b[0;34m\u001b[0m\u001b[0;34m\u001b[0m\u001b[0;34m\u001b[0m\u001b[0m\n\u001b[0;32m----> 6\u001b[0;31m \u001b[0mpos_simple\u001b[0m \u001b[0;34m=\u001b[0m \u001b[0mnx\u001b[0m\u001b[0;34m.\u001b[0m\u001b[0mkamada_kawai_layout\u001b[0m\u001b[0;34m(\u001b[0m\u001b[0mgraph_simple\u001b[0m\u001b[0;34m,\u001b[0m \u001b[0mk\u001b[0m\u001b[0;34m=\u001b[0m\u001b[0;36m0.3\u001b[0m\u001b[0;34m)\u001b[0m  \u001b[0;31m# You can adjust the value of k\u001b[0m\u001b[0;34m\u001b[0m\u001b[0;34m\u001b[0m\u001b[0m\n\u001b[0m\u001b[1;32m      7\u001b[0m \u001b[0mlabels_simple\u001b[0m \u001b[0;34m=\u001b[0m \u001b[0mnx\u001b[0m\u001b[0;34m.\u001b[0m\u001b[0mget_edge_attributes\u001b[0m\u001b[0;34m(\u001b[0m\u001b[0mgraph_simple\u001b[0m\u001b[0;34m,\u001b[0m \u001b[0;34m'label'\u001b[0m\u001b[0;34m)\u001b[0m\u001b[0;34m\u001b[0m\u001b[0;34m\u001b[0m\u001b[0m\n\u001b[1;32m      8\u001b[0m \u001b[0;34m\u001b[0m\u001b[0m\n",
      "\u001b[0;31mTypeError\u001b[0m: kamada_kawai_layout() got an unexpected keyword argument 'k'"
     ]
    }
   ],
   "source": [
    "import matplotlib.pyplot as plt\n",
    "\n",
    "# ... (Previous code)\n",
    "\n",
    "# Draw the simplified graph with Kamada-Kawai layout and constraints\n",
    "pos_simple = nx.kamada_kawai_layout(graph_simple, k=0.3)  # You can adjust the value of k\n",
    "labels_simple = nx.get_edge_attributes(graph_simple, 'label')\n",
    "\n",
    "plt.figure(figsize=(10, 8))  # You can adjust the size of the figure\n",
    "nx.draw(graph_simple, pos_simple, with_labels=True, labels=nx.get_node_attributes(graph_simple, 'label'))\n",
    "nx.draw_networkx_edge_labels(graph_simple, pos_simple, edge_labels=labels_simple)\n",
    "\n",
    "plt.show()\n"
   ]
  },
  {
   "cell_type": "code",
   "execution_count": null,
   "id": "6db3cd43",
   "metadata": {},
   "outputs": [],
   "source": []
  }
 ],
 "metadata": {
  "kernelspec": {
   "display_name": "Python 3 (ipykernel)",
   "language": "python",
   "name": "python3"
  },
  "language_info": {
   "codemirror_mode": {
    "name": "ipython",
    "version": 3
   },
   "file_extension": ".py",
   "mimetype": "text/x-python",
   "name": "python",
   "nbconvert_exporter": "python",
   "pygments_lexer": "ipython3",
   "version": "3.7.13"
  }
 },
 "nbformat": 4,
 "nbformat_minor": 5
}
